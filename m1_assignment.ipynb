{
 "cells": [
  {
   "cell_type": "markdown",
   "metadata": {},
   "source": [
    "# Module 1 Assignment\n",
    "\n",
    "A few things you should keep in mind when working on assignments:\n",
    "\n",
    "1. Make sure you fill in any place that says `# YOUR CODE HERE`. Do not write your answer anywhere else other than where it says `# YOUR CODE HERE`. Anything you write elsewhere will be removed or overwritten by the autograder.\n",
    "2. Before you submit your assignment, make sure everything runs as expected. Go to the menubar, select Kernel, and restart the kernel and run all cells (Restart & Run all).\n",
    "3. Do not change the title (i.e. file name) of this notebook.\n",
    "4. Make sure that you save your work (in the menubar, select File → Save and CheckPoint).\n",
    "5. All work must be your own, if you do use any code from another source (such as a course notebook or a website) you need to properly cite the source.\n",
    "\n",
    "-----"
   ]
  },
  {
   "cell_type": "code",
   "execution_count": 1,
   "metadata": {
    "deletable": false,
    "editable": false,
    "nbgrader": {
     "checksum": "6ff1fb74c64b6c31bf87469169ddf342",
     "grade": false,
     "grade_id": "cell-d95b3d9bf9f7276d",
     "locked": true,
     "schema_version": 1,
     "solution": false
    }
   },
   "outputs": [],
   "source": [
    "import pandas as pd\n",
    "import numpy as np\n",
    "\n",
    "from nose.tools import assert_equal, assert_almost_equal, assert_true, assert_is_instance"
   ]
  },
  {
   "cell_type": "markdown",
   "metadata": {
    "collapsed": true,
    "deletable": false,
    "editable": false
   },
   "source": [
    "-----\n",
    "\n",
    "## Predicting the Price of a Car\n",
    "\n",
    "In this assignment, we will use a partially cleaned dataset to make a predictive model. Before we attempt to build a mode, we first must load the data, select the independent feature, and the dependent label. The first Code cell below reads the data from a CSV file and displays several random instances. The second Code cell selects the independent features (`make`) and the dependent label (`price`), and displays the first few instances in this new DataFrame. \n",
    "\n",
    "-----"
   ]
  },
  {
   "cell_type": "code",
   "execution_count": 2,
   "metadata": {
    "deletable": false,
    "editable": false
   },
   "outputs": [
    {
     "data": {
      "text/html": [
       "<div>\n",
       "<style scoped>\n",
       "    .dataframe tbody tr th:only-of-type {\n",
       "        vertical-align: middle;\n",
       "    }\n",
       "\n",
       "    .dataframe tbody tr th {\n",
       "        vertical-align: top;\n",
       "    }\n",
       "\n",
       "    .dataframe thead th {\n",
       "        text-align: right;\n",
       "    }\n",
       "</style>\n",
       "<table border=\"1\" class=\"dataframe\">\n",
       "  <thead>\n",
       "    <tr style=\"text-align: right;\">\n",
       "      <th></th>\n",
       "      <th>symboling</th>\n",
       "      <th>normalized-losses</th>\n",
       "      <th>make</th>\n",
       "      <th>fuel-type</th>\n",
       "      <th>aspiration</th>\n",
       "      <th>num-of-doors</th>\n",
       "      <th>body-style</th>\n",
       "      <th>drive-wheels</th>\n",
       "      <th>'engine-location'</th>\n",
       "      <th>wheel-base</th>\n",
       "      <th>...</th>\n",
       "      <th>engine-size</th>\n",
       "      <th>fuel-system</th>\n",
       "      <th>bore</th>\n",
       "      <th>stroke</th>\n",
       "      <th>compression-ratio'</th>\n",
       "      <th>horsepower</th>\n",
       "      <th>peak-rpm</th>\n",
       "      <th>city-mpg</th>\n",
       "      <th>highway</th>\n",
       "      <th>price</th>\n",
       "    </tr>\n",
       "  </thead>\n",
       "  <tbody>\n",
       "    <tr>\n",
       "      <th>32</th>\n",
       "      <td>1</td>\n",
       "      <td>101</td>\n",
       "      <td>5</td>\n",
       "      <td>1</td>\n",
       "      <td>std</td>\n",
       "      <td>2.0</td>\n",
       "      <td>3</td>\n",
       "      <td>fwd</td>\n",
       "      <td>front</td>\n",
       "      <td>93.7</td>\n",
       "      <td>...</td>\n",
       "      <td>79</td>\n",
       "      <td>1bbl</td>\n",
       "      <td>2.91</td>\n",
       "      <td>3.07</td>\n",
       "      <td>10.1</td>\n",
       "      <td>60</td>\n",
       "      <td>5500</td>\n",
       "      <td>38</td>\n",
       "      <td>42</td>\n",
       "      <td>5399.000000</td>\n",
       "    </tr>\n",
       "    <tr>\n",
       "      <th>129</th>\n",
       "      <td>1</td>\n",
       "      <td>122</td>\n",
       "      <td>15</td>\n",
       "      <td>1</td>\n",
       "      <td>std</td>\n",
       "      <td>2.0</td>\n",
       "      <td>3</td>\n",
       "      <td>rwd</td>\n",
       "      <td>front</td>\n",
       "      <td>98.4</td>\n",
       "      <td>...</td>\n",
       "      <td>203</td>\n",
       "      <td>mpfi</td>\n",
       "      <td>3.94</td>\n",
       "      <td>3.11</td>\n",
       "      <td>10.0</td>\n",
       "      <td>288</td>\n",
       "      <td>5750</td>\n",
       "      <td>17</td>\n",
       "      <td>28</td>\n",
       "      <td>13207.129353</td>\n",
       "    </tr>\n",
       "    <tr>\n",
       "      <th>168</th>\n",
       "      <td>2</td>\n",
       "      <td>134</td>\n",
       "      <td>19</td>\n",
       "      <td>1</td>\n",
       "      <td>std</td>\n",
       "      <td>2.0</td>\n",
       "      <td>0</td>\n",
       "      <td>rwd</td>\n",
       "      <td>front</td>\n",
       "      <td>98.4</td>\n",
       "      <td>...</td>\n",
       "      <td>146</td>\n",
       "      <td>mpfi</td>\n",
       "      <td>3.62</td>\n",
       "      <td>3.50</td>\n",
       "      <td>9.3</td>\n",
       "      <td>116</td>\n",
       "      <td>4800</td>\n",
       "      <td>24</td>\n",
       "      <td>30</td>\n",
       "      <td>9639.000000</td>\n",
       "    </tr>\n",
       "    <tr>\n",
       "      <th>189</th>\n",
       "      <td>3</td>\n",
       "      <td>122</td>\n",
       "      <td>20</td>\n",
       "      <td>1</td>\n",
       "      <td>std</td>\n",
       "      <td>2.0</td>\n",
       "      <td>4</td>\n",
       "      <td>fwd</td>\n",
       "      <td>front</td>\n",
       "      <td>94.5</td>\n",
       "      <td>...</td>\n",
       "      <td>109</td>\n",
       "      <td>mpfi</td>\n",
       "      <td>3.19</td>\n",
       "      <td>3.40</td>\n",
       "      <td>8.5</td>\n",
       "      <td>90</td>\n",
       "      <td>5500</td>\n",
       "      <td>24</td>\n",
       "      <td>29</td>\n",
       "      <td>11595.000000</td>\n",
       "    </tr>\n",
       "    <tr>\n",
       "      <th>53</th>\n",
       "      <td>1</td>\n",
       "      <td>113</td>\n",
       "      <td>8</td>\n",
       "      <td>1</td>\n",
       "      <td>std</td>\n",
       "      <td>4.0</td>\n",
       "      <td>2</td>\n",
       "      <td>fwd</td>\n",
       "      <td>front</td>\n",
       "      <td>93.1</td>\n",
       "      <td>...</td>\n",
       "      <td>91</td>\n",
       "      <td>2bbl</td>\n",
       "      <td>3.03</td>\n",
       "      <td>3.15</td>\n",
       "      <td>9.0</td>\n",
       "      <td>68</td>\n",
       "      <td>5000</td>\n",
       "      <td>31</td>\n",
       "      <td>38</td>\n",
       "      <td>6695.000000</td>\n",
       "    </tr>\n",
       "  </tbody>\n",
       "</table>\n",
       "<p>5 rows × 26 columns</p>\n",
       "</div>"
      ],
      "text/plain": [
       "     symboling  normalized-losses  make  fuel-type aspiration  num-of-doors  \\\n",
       "32           1                101     5          1        std           2.0   \n",
       "129          1                122    15          1        std           2.0   \n",
       "168          2                134    19          1        std           2.0   \n",
       "189          3                122    20          1        std           2.0   \n",
       "53           1                113     8          1        std           4.0   \n",
       "\n",
       "     body-style drive-wheels 'engine-location'  wheel-base  ...  engine-size  \\\n",
       "32            3          fwd             front        93.7  ...           79   \n",
       "129           3          rwd             front        98.4  ...          203   \n",
       "168           0          rwd             front        98.4  ...          146   \n",
       "189           4          fwd             front        94.5  ...          109   \n",
       "53            2          fwd             front        93.1  ...           91   \n",
       "\n",
       "     fuel-system  bore  stroke compression-ratio' horsepower  peak-rpm  \\\n",
       "32          1bbl  2.91    3.07               10.1         60      5500   \n",
       "129         mpfi  3.94    3.11               10.0        288      5750   \n",
       "168         mpfi  3.62    3.50                9.3        116      4800   \n",
       "189         mpfi  3.19    3.40                8.5         90      5500   \n",
       "53          2bbl  3.03    3.15                9.0         68      5000   \n",
       "\n",
       "    city-mpg highway         price  \n",
       "32        38      42   5399.000000  \n",
       "129       17      28  13207.129353  \n",
       "168       24      30   9639.000000  \n",
       "189       24      29  11595.000000  \n",
       "53        31      38   6695.000000  \n",
       "\n",
       "[5 rows x 26 columns]"
      ]
     },
     "execution_count": 2,
     "metadata": {},
     "output_type": "execute_result"
    }
   ],
   "source": [
    "df = pd.read_csv('./imports-85.data')\n",
    "df.sample(5)"
   ]
  },
  {
   "cell_type": "code",
   "execution_count": 3,
   "metadata": {
    "deletable": false,
    "editable": false
   },
   "outputs": [
    {
     "data": {
      "text/html": [
       "<div>\n",
       "<style scoped>\n",
       "    .dataframe tbody tr th:only-of-type {\n",
       "        vertical-align: middle;\n",
       "    }\n",
       "\n",
       "    .dataframe tbody tr th {\n",
       "        vertical-align: top;\n",
       "    }\n",
       "\n",
       "    .dataframe thead th {\n",
       "        text-align: right;\n",
       "    }\n",
       "</style>\n",
       "<table border=\"1\" class=\"dataframe\">\n",
       "  <thead>\n",
       "    <tr style=\"text-align: right;\">\n",
       "      <th></th>\n",
       "      <th>make</th>\n",
       "      <th>price</th>\n",
       "    </tr>\n",
       "  </thead>\n",
       "  <tbody>\n",
       "    <tr>\n",
       "      <th>0</th>\n",
       "      <td>0</td>\n",
       "      <td>13495.0</td>\n",
       "    </tr>\n",
       "    <tr>\n",
       "      <th>1</th>\n",
       "      <td>0</td>\n",
       "      <td>16500.0</td>\n",
       "    </tr>\n",
       "    <tr>\n",
       "      <th>2</th>\n",
       "      <td>0</td>\n",
       "      <td>16500.0</td>\n",
       "    </tr>\n",
       "    <tr>\n",
       "      <th>3</th>\n",
       "      <td>1</td>\n",
       "      <td>13950.0</td>\n",
       "    </tr>\n",
       "    <tr>\n",
       "      <th>4</th>\n",
       "      <td>1</td>\n",
       "      <td>17450.0</td>\n",
       "    </tr>\n",
       "  </tbody>\n",
       "</table>\n",
       "</div>"
      ],
      "text/plain": [
       "   make    price\n",
       "0     0  13495.0\n",
       "1     0  16500.0\n",
       "2     0  16500.0\n",
       "3     1  13950.0\n",
       "4     1  17450.0"
      ]
     },
     "execution_count": 3,
     "metadata": {},
     "output_type": "execute_result"
    }
   ],
   "source": [
    "df_simple = df[['make', 'price']]\n",
    "df_simple.head()"
   ]
  },
  {
   "cell_type": "markdown",
   "metadata": {
    "deletable": false,
    "editable": false
   },
   "source": [
    "-----\n",
    "\n",
    "## Problem 1: Creating the Training and Testing Datasets\n",
    "\n",
    "The `data_split` function shown below accepts a parameter called `data` that is stored in a DataFrame. Your task is to use the `train_test_split` function available in the scikit learn library to split this DataFrame into two separate DataFrames (a testing set and training set). \n",
    "\n",
    "To complete this process, do the following:\n",
    "- Split the training and testing set into two separate DataFrames.\n",
    "- The `test_size` argument in `train_test_split` should be set to the `size` parameter.\n",
    "- The `random_state` argument in `train_test_split` should be set the `random_state` parameter.\n",
    "- Return both the training set and the testing set, in this order.\n",
    "\n",
    "-----"
   ]
  },
  {
   "cell_type": "code",
   "execution_count": 4,
   "metadata": {
    "deletable": false,
    "nbgrader": {
     "checksum": "1349479b8a645e353f227bf24b8d557f",
     "grade": false,
     "grade_id": "p1_answer",
     "locked": false,
     "schema_version": 1,
     "solution": true
    }
   },
   "outputs": [],
   "source": [
    "from sklearn.model_selection import train_test_split\n",
    "\n",
    "def data_split(data, size=0.25, random_state=0):\n",
    "    '''    \n",
    "    Split data into training and testing sets.\n",
    "    \n",
    "    Parameters\n",
    "    ---------\n",
    "    data: Pandas DataFrame\n",
    "    size: ratio of training and testing data\n",
    "    random_state: random seed for random number generator\n",
    "\n",
    "    Returns\n",
    "    -------\n",
    "    Two DataFrames: train and test, in that order.\n",
    "    '''\n",
    "    \n",
    "    ### YOUR CODE HERE\n",
    "    \n",
    "    train_set, test_set = train_test_split(data, test_size=size, random_state=random_state)\n",
    "    \n",
    "    return train_set, test_set"
   ]
  },
  {
   "cell_type": "code",
   "execution_count": 5,
   "metadata": {},
   "outputs": [
    {
     "data": {
      "text/plain": [
       "(     make    price\n",
       " 163    19   8058.0\n",
       " 61      8  10595.0\n",
       " 75     10  16503.0\n",
       " 106    12  18399.0\n",
       " 63      8  10795.0\n",
       " ..    ...      ...\n",
       " 67      9  25552.0\n",
       " 192    20  13845.0\n",
       " 117    13  18150.0\n",
       " 47      7  32250.0\n",
       " 172    19  17669.0\n",
       " \n",
       " [153 rows x 2 columns],\n",
       "      make         price\n",
       " 52      8   6795.000000\n",
       " 181    19  15750.000000\n",
       " 5       1  15250.000000\n",
       " 18      3   5151.000000\n",
       " 188    20   9995.000000\n",
       " 170    19  11199.000000\n",
       " 76     11   5389.000000\n",
       " 154    19   7898.000000\n",
       " 104    12  17199.000000\n",
       " 33      5   6529.000000\n",
       " 12      2  20970.000000\n",
       " 129    15  13207.129353\n",
       " 55      8  10945.000000\n",
       " 66      8  18344.000000\n",
       " 45      6  13207.129353\n",
       " 169    19   9989.000000\n",
       " 130    16   9295.000000\n",
       " 7       1  18920.000000\n",
       " 37      5   7895.000000\n",
       " 152    19   6488.000000\n",
       " 80     11   9959.000000\n",
       " 111    13  15580.000000\n",
       " 131    16   9895.000000\n",
       " 171    19  11549.000000\n",
       " 179    19  15998.000000\n",
       " 138    18   5118.000000\n",
       " 156    19   6938.000000\n",
       " 113    13  16695.000000\n",
       " 161    19   8358.000000\n",
       " 89     12   5499.000000\n",
       " 183    20   7975.000000\n",
       " 193    20  12290.000000\n",
       " 125    15  22018.000000\n",
       " 173    19   8948.000000\n",
       " 92     12   6849.000000\n",
       " 16      2  41315.000000\n",
       " 189    20  11595.000000\n",
       " 136    17  18150.000000\n",
       " 22      4   6377.000000\n",
       " 74      9  45400.000000\n",
       " 44      6  13207.129353\n",
       " 4       1  17450.000000\n",
       " 71      9  34184.000000\n",
       " 134    17  15040.000000\n",
       " 145    18  11259.000000\n",
       " 122    14   7609.000000\n",
       " 26      4   7609.000000\n",
       " 83     11  14869.000000\n",
       " 149    18  11694.000000\n",
       " 186    20   8495.000000\n",
       " 8       1  23875.000000\n",
       " 90     12   7099.000000)"
      ]
     },
     "execution_count": 5,
     "metadata": {},
     "output_type": "execute_result"
    }
   ],
   "source": [
    "data_split(df_simple)"
   ]
  },
  {
   "cell_type": "code",
   "execution_count": 6,
   "metadata": {},
   "outputs": [],
   "source": [
    "#from sklearn.model_selection import train_test_split"
   ]
  },
  {
   "cell_type": "code",
   "execution_count": 7,
   "metadata": {},
   "outputs": [],
   "source": [
    "# X = df_simple.iloc[:,0]\n",
    "# y = df_simple.iloc[:,1]"
   ]
  },
  {
   "cell_type": "code",
   "execution_count": 8,
   "metadata": {},
   "outputs": [],
   "source": [
    "#X_train, X_test, y_train, y_test = train_test_split(X, y, test_size=0.25, random_state=0)"
   ]
  },
  {
   "cell_type": "code",
   "execution_count": 9,
   "metadata": {
    "deletable": false,
    "editable": false,
    "nbgrader": {
     "checksum": "ab0e4fa21a55531ab281948dd5b0f54b",
     "grade": true,
     "grade_id": "p1_test",
     "locked": true,
     "points": 1,
     "schema_version": 1,
     "solution": false
    }
   },
   "outputs": [],
   "source": [
    "# Call function\n",
    "train, test = data_split(df_simple)\n",
    "\n",
    "# Test Data types\n",
    "assert_equal(type(train), pd.DataFrame, msg=\"train is not a DataFrame\")\n",
    "assert_equal(type(test), pd.DataFrame, msg=\"test is not a DataFrame\")\n",
    "\n",
    "# Converting to NumPy arrays for sklearn\n",
    "train_X = train.make.values.reshape(len(train.make),1)\n",
    "train_y = train.price.values\n",
    "test_X = test.make.values.reshape(len(test.make), 1)\n",
    "test_y = test.price.values\n",
    "\n",
    "# Test dependent values\n",
    "assert_almost_equal(np.sum(test_y), 689311.38805, places=2)\n",
    "assert_almost_equal(np.sum(train_y), 2018150.12935, places=2)\n",
    "\n",
    "# Test independent values\n",
    "assert_equal(train_X[1][0], 8)\n",
    "assert_equal(train_X[45][0], 13)\n",
    "assert_equal(test_X[25][0], 18)\n",
    "assert_equal(test_X[51][0], 12)"
   ]
  },
  {
   "cell_type": "markdown",
   "metadata": {
    "deletable": false,
    "editable": false
   },
   "source": [
    "-----\n",
    "\n",
    "## Problem 2: Performing Linear Regression\n",
    "\n",
    "Your task for this problem is to build and use the scikit learn library's `LinearRegression` estimator to  make predictions on the cars dataset. The framework for a regression function has been provided below, that takes two NumPy arrays containing the features (`trainX`) and the labels (`trainY`), an optional Boolean flag, `fit_intercept`, which indicates whether an intercept term should be fit as part of the linear regression. To complete this function, you must explicitly:\n",
    "- Create a `LinearRegression` estimator by using scikit learn.\n",
    "- Fit the `LinearRegression` estimator using trainX and trainY.\n",
    "- Return the resulting estimator.\n",
    "\n",
    "-----"
   ]
  },
  {
   "cell_type": "code",
   "execution_count": 10,
   "metadata": {},
   "outputs": [
    {
     "data": {
      "text/plain": [
       "array([[19],\n",
       "       [ 8],\n",
       "       [10],\n",
       "       [12],\n",
       "       [ 8]], dtype=int64)"
      ]
     },
     "execution_count": 10,
     "metadata": {},
     "output_type": "execute_result"
    }
   ],
   "source": [
    "train_X[:5]"
   ]
  },
  {
   "cell_type": "code",
   "execution_count": 11,
   "metadata": {},
   "outputs": [
    {
     "data": {
      "text/plain": [
       "array([ 8058., 10595., 16503., 18399., 10795.])"
      ]
     },
     "execution_count": 11,
     "metadata": {},
     "output_type": "execute_result"
    }
   ],
   "source": [
    "train_y[:5]"
   ]
  },
  {
   "cell_type": "code",
   "execution_count": 12,
   "metadata": {},
   "outputs": [],
   "source": [
    "from sklearn.linear_model import LinearRegression\n",
    "lr = LinearRegression(fit_intercept=False)"
   ]
  },
  {
   "cell_type": "code",
   "execution_count": 13,
   "metadata": {},
   "outputs": [
    {
     "data": {
      "text/plain": [
       "LinearRegression(fit_intercept=False)"
      ]
     },
     "execution_count": 13,
     "metadata": {},
     "output_type": "execute_result"
    }
   ],
   "source": [
    "model = lr.fit(train_X, train_y)\n",
    "\n",
    "model"
   ]
  },
  {
   "cell_type": "code",
   "execution_count": 14,
   "metadata": {},
   "outputs": [
    {
     "data": {
      "text/plain": [
       "{'copy_X': True,\n",
       " 'fit_intercept': False,\n",
       " 'n_jobs': None,\n",
       " 'normalize': 'deprecated',\n",
       " 'positive': False}"
      ]
     },
     "execution_count": 14,
     "metadata": {},
     "output_type": "execute_result"
    }
   ],
   "source": [
    "model.get_params()"
   ]
  },
  {
   "cell_type": "code",
   "execution_count": 15,
   "metadata": {
    "deletable": false,
    "nbgrader": {
     "checksum": "8442d1fb728fe4db1772a7b37d0d032c",
     "grade": false,
     "grade_id": "p2_answer",
     "locked": false,
     "schema_version": 1,
     "solution": true
    }
   },
   "outputs": [],
   "source": [
    "from sklearn.linear_model import LinearRegression\n",
    "\n",
    "def regression(trainX, trainY, fit_intercept=False):\n",
    "    '''\n",
    "    Compute a linear regression model for given training data set.\n",
    "    \n",
    "    Parameters\n",
    "    ---------\n",
    "    trainX: the training indepedent features\n",
    "    trainY: the training depedent features\n",
    "    fit_intercept: optional Boolean flag to indicate if an intercept should be fit\n",
    "\n",
    "    Returns\n",
    "    -------\n",
    "    The fitted linear regression model\n",
    "    '''\n",
    "    \n",
    "    ### YOUR CODE HERE\n",
    "    \n",
    "    lr = LinearRegression(fit_intercept=fit_intercept, n_jobs=1, normalize=False, copy_X=True, positive=False)\n",
    "    lr.fit(trainX, trainY)\n",
    "    \n",
    "    return lr"
   ]
  },
  {
   "cell_type": "code",
   "execution_count": 16,
   "metadata": {
    "deletable": false,
    "editable": false,
    "nbgrader": {
     "checksum": "9da927f178b09d33ab45a577e91d4a3d",
     "grade": true,
     "grade_id": "p2_test",
     "locked": true,
     "points": 1,
     "schema_version": 1,
     "solution": false
    }
   },
   "outputs": [
    {
     "name": "stderr",
     "output_type": "stream",
     "text": [
      "C:\\ProgramData\\Anaconda3\\lib\\site-packages\\sklearn\\linear_model\\_base.py:148: FutureWarning: 'normalize' was deprecated in version 1.0 and will be removed in 1.2. Please leave the normalize parameter to its default value to silence this warning. The default behavior of this estimator is to not do any normalization. If normalization is needed please use sklearn.preprocessing.StandardScaler instead.\n",
      "  warnings.warn(\n"
     ]
    },
    {
     "ename": "AssertionError",
     "evalue": "{'cop[23 chars]ept': True, 'n_jobs': 1, 'normalize': False, 'positive': False} != {'cop[23 chars]ept': True, 'n_jobs': 1, 'normalize': False}\n+ {'copy_X': True, 'fit_intercept': True, 'n_jobs': 1, 'normalize': False}\n- {'copy_X': True,\n-  'fit_intercept': True,\n-  'n_jobs': 1,\n-  'normalize': False,\n-  'positive': False}",
     "output_type": "error",
     "traceback": [
      "\u001b[1;31m---------------------------------------------------------------------------\u001b[0m",
      "\u001b[1;31mAssertionError\u001b[0m                            Traceback (most recent call last)",
      "Input \u001b[1;32mIn [16]\u001b[0m, in \u001b[0;36m<cell line: 4>\u001b[1;34m()\u001b[0m\n\u001b[0;32m      1\u001b[0m lr \u001b[38;5;241m=\u001b[39m regression(train_X, train_y, fit_intercept\u001b[38;5;241m=\u001b[39m\u001b[38;5;28;01mTrue\u001b[39;00m)\n\u001b[0;32m      3\u001b[0m assert_equal(\u001b[38;5;28mtype\u001b[39m(lr), \u001b[38;5;28mtype\u001b[39m(LinearRegression()))\n\u001b[1;32m----> 4\u001b[0m \u001b[43massert_equal\u001b[49m\u001b[43m(\u001b[49m\u001b[43mlr\u001b[49m\u001b[38;5;241;43m.\u001b[39;49m\u001b[43mget_params\u001b[49m\u001b[43m(\u001b[49m\u001b[43m)\u001b[49m\u001b[43m,\u001b[49m\u001b[43m \u001b[49m\u001b[43m{\u001b[49m\u001b[38;5;124;43m'\u001b[39;49m\u001b[38;5;124;43mcopy_X\u001b[39;49m\u001b[38;5;124;43m'\u001b[39;49m\u001b[43m:\u001b[49m\u001b[43m \u001b[49m\u001b[38;5;28;43;01mTrue\u001b[39;49;00m\u001b[43m,\u001b[49m\u001b[43m \u001b[49m\u001b[38;5;124;43m'\u001b[39;49m\u001b[38;5;124;43mfit_intercept\u001b[39;49m\u001b[38;5;124;43m'\u001b[39;49m\u001b[43m:\u001b[49m\u001b[43m \u001b[49m\u001b[38;5;28;43;01mTrue\u001b[39;49;00m\u001b[43m,\u001b[49m\u001b[43m \u001b[49m\u001b[43m\\\u001b[49m\n\u001b[0;32m      5\u001b[0m \u001b[43m                               \u001b[49m\u001b[38;5;124;43m'\u001b[39;49m\u001b[38;5;124;43mn_jobs\u001b[39;49m\u001b[38;5;124;43m'\u001b[39;49m\u001b[43m:\u001b[49m\u001b[43m \u001b[49m\u001b[38;5;241;43m1\u001b[39;49m\u001b[43m,\u001b[49m\u001b[43m \u001b[49m\u001b[38;5;124;43m'\u001b[39;49m\u001b[38;5;124;43mnormalize\u001b[39;49m\u001b[38;5;124;43m'\u001b[39;49m\u001b[43m:\u001b[49m\u001b[43m \u001b[49m\u001b[38;5;28;43;01mFalse\u001b[39;49;00m\u001b[43m}\u001b[49m\u001b[43m)\u001b[49m\n",
      "File \u001b[1;32mC:\\ProgramData\\Anaconda3\\lib\\unittest\\case.py:837\u001b[0m, in \u001b[0;36mTestCase.assertEqual\u001b[1;34m(self, first, second, msg)\u001b[0m\n\u001b[0;32m    833\u001b[0m \u001b[38;5;124;03m\"\"\"Fail if the two objects are unequal as determined by the '=='\u001b[39;00m\n\u001b[0;32m    834\u001b[0m \u001b[38;5;124;03m   operator.\u001b[39;00m\n\u001b[0;32m    835\u001b[0m \u001b[38;5;124;03m\"\"\"\u001b[39;00m\n\u001b[0;32m    836\u001b[0m assertion_func \u001b[38;5;241m=\u001b[39m \u001b[38;5;28mself\u001b[39m\u001b[38;5;241m.\u001b[39m_getAssertEqualityFunc(first, second)\n\u001b[1;32m--> 837\u001b[0m \u001b[43massertion_func\u001b[49m\u001b[43m(\u001b[49m\u001b[43mfirst\u001b[49m\u001b[43m,\u001b[49m\u001b[43m \u001b[49m\u001b[43msecond\u001b[49m\u001b[43m,\u001b[49m\u001b[43m \u001b[49m\u001b[43mmsg\u001b[49m\u001b[38;5;241;43m=\u001b[39;49m\u001b[43mmsg\u001b[49m\u001b[43m)\u001b[49m\n",
      "File \u001b[1;32mC:\\ProgramData\\Anaconda3\\lib\\unittest\\case.py:1136\u001b[0m, in \u001b[0;36mTestCase.assertDictEqual\u001b[1;34m(self, d1, d2, msg)\u001b[0m\n\u001b[0;32m   1132\u001b[0m diff \u001b[38;5;241m=\u001b[39m (\u001b[38;5;124m'\u001b[39m\u001b[38;5;130;01m\\n\u001b[39;00m\u001b[38;5;124m'\u001b[39m \u001b[38;5;241m+\u001b[39m \u001b[38;5;124m'\u001b[39m\u001b[38;5;130;01m\\n\u001b[39;00m\u001b[38;5;124m'\u001b[39m\u001b[38;5;241m.\u001b[39mjoin(difflib\u001b[38;5;241m.\u001b[39mndiff(\n\u001b[0;32m   1133\u001b[0m                pprint\u001b[38;5;241m.\u001b[39mpformat(d1)\u001b[38;5;241m.\u001b[39msplitlines(),\n\u001b[0;32m   1134\u001b[0m                pprint\u001b[38;5;241m.\u001b[39mpformat(d2)\u001b[38;5;241m.\u001b[39msplitlines())))\n\u001b[0;32m   1135\u001b[0m standardMsg \u001b[38;5;241m=\u001b[39m \u001b[38;5;28mself\u001b[39m\u001b[38;5;241m.\u001b[39m_truncateMessage(standardMsg, diff)\n\u001b[1;32m-> 1136\u001b[0m \u001b[38;5;28;43mself\u001b[39;49m\u001b[38;5;241;43m.\u001b[39;49m\u001b[43mfail\u001b[49m\u001b[43m(\u001b[49m\u001b[38;5;28;43mself\u001b[39;49m\u001b[38;5;241;43m.\u001b[39;49m\u001b[43m_formatMessage\u001b[49m\u001b[43m(\u001b[49m\u001b[43mmsg\u001b[49m\u001b[43m,\u001b[49m\u001b[43m \u001b[49m\u001b[43mstandardMsg\u001b[49m\u001b[43m)\u001b[49m\u001b[43m)\u001b[49m\n",
      "File \u001b[1;32mC:\\ProgramData\\Anaconda3\\lib\\unittest\\case.py:676\u001b[0m, in \u001b[0;36mTestCase.fail\u001b[1;34m(self, msg)\u001b[0m\n\u001b[0;32m    674\u001b[0m \u001b[38;5;28;01mdef\u001b[39;00m \u001b[38;5;21mfail\u001b[39m(\u001b[38;5;28mself\u001b[39m, msg\u001b[38;5;241m=\u001b[39m\u001b[38;5;28;01mNone\u001b[39;00m):\n\u001b[0;32m    675\u001b[0m     \u001b[38;5;124;03m\"\"\"Fail immediately, with the given message.\"\"\"\u001b[39;00m\n\u001b[1;32m--> 676\u001b[0m     \u001b[38;5;28;01mraise\u001b[39;00m \u001b[38;5;28mself\u001b[39m\u001b[38;5;241m.\u001b[39mfailureException(msg)\n",
      "\u001b[1;31mAssertionError\u001b[0m: {'cop[23 chars]ept': True, 'n_jobs': 1, 'normalize': False, 'positive': False} != {'cop[23 chars]ept': True, 'n_jobs': 1, 'normalize': False}\n+ {'copy_X': True, 'fit_intercept': True, 'n_jobs': 1, 'normalize': False}\n- {'copy_X': True,\n-  'fit_intercept': True,\n-  'n_jobs': 1,\n-  'normalize': False,\n-  'positive': False}"
     ]
    }
   ],
   "source": [
    "lr = regression(train_X, train_y, fit_intercept=True)\n",
    "\n",
    "assert_equal(type(lr), type(LinearRegression()))\n",
    "assert_equal(lr.get_params(), {'copy_X': True, 'fit_intercept': True, \\\n",
    "                               'n_jobs': 1, 'normalize': False})"
   ]
  },
  {
   "cell_type": "markdown",
   "metadata": {
    "deletable": false,
    "editable": false
   },
   "source": [
    "-----\n",
    "\n",
    "## Problem 3: Checking R2 Score on Testing Dataset\n",
    "\n",
    "For this problem, you will compute the R2 score given a model, the independent features (`X`), and the dependent feature (`y`). By using the function template provided below, you must explicitly:\n",
    "- Compute the R2 score for the supplied model.\n",
    "- Return the resulting score.\n",
    "\n",
    "-----"
   ]
  },
  {
   "cell_type": "code",
   "execution_count": 17,
   "metadata": {
    "deletable": false,
    "nbgrader": {
     "checksum": "c7f73d8ffadb87edca43d0d97265fad6",
     "grade": false,
     "grade_id": "p3_answer",
     "locked": false,
     "schema_version": 1,
     "solution": true
    }
   },
   "outputs": [],
   "source": [
    "def r2_score(model, X, y):\n",
    "    '''\n",
    "    Compute the R2 score for a given model and data set.\n",
    "    \n",
    "    Parameters\n",
    "    ---------\n",
    "    model: linear regression model\n",
    "    X: NumPy array containing indepenent data (features)\n",
    "    y: NumPy array containing depenent data (labels)\n",
    "\n",
    "    Returns\n",
    "    -------\n",
    "    A float containing the model score\n",
    "    '''\n",
    "\n",
    "    ### YOUR CODE HERE\n",
    "    \n",
    "    from sklearn.metrics import r2_score\n",
    "    \n",
    "    # Compute the R2 score\n",
    "    r2 = r2_score(y, model.predict(X))\n",
    "    \n",
    "    # Return the resulting score\n",
    "    return r2"
   ]
  },
  {
   "cell_type": "code",
   "execution_count": 18,
   "metadata": {
    "deletable": false,
    "editable": false,
    "nbgrader": {
     "checksum": "267ece2cdbe57ae87a9e726cb41374cd",
     "grade": true,
     "grade_id": "p3_test",
     "locked": true,
     "points": 1,
     "schema_version": 1,
     "solution": false
    }
   },
   "outputs": [],
   "source": [
    "# Compute the score\n",
    "score = r2_score(lr, train_X, train_y)\n",
    "\n",
    "# Test the score\n",
    "assert_almost_equal(0.010956, score, places=2)"
   ]
  },
  {
   "cell_type": "markdown",
   "metadata": {
    "deletable": false,
    "editable": false
   },
   "source": [
    "-----\n",
    "\n",
    "## Problem 4: Model Persistence\n",
    "\n",
    "Complete the function `persist_model`, which accepts two parameters: `name` and `model`. This function will persist the provided `model` into a new file specified by `name`. To persist the machine learning model, you should use the joblib library. By using the function template provided below, you must explicitly:\n",
    "- Open the file by using the provided name for writing.\n",
    "- Save the model to this file.\n",
    "\n",
    "-----"
   ]
  },
  {
   "cell_type": "code",
   "execution_count": 19,
   "metadata": {
    "deletable": false,
    "nbgrader": {
     "checksum": "76509c9a04a0a8b5e99b8e382fe699bf",
     "grade": false,
     "grade_id": "p4_answer",
     "locked": false,
     "schema_version": 1,
     "solution": true
    }
   },
   "outputs": [],
   "source": [
    "import os\n",
    "import joblib\n",
    "#from sklearn.externals import joblib\n",
    "from joblib import dump\n",
    "\n",
    "def persist_model(name, model):\n",
    "    '''\n",
    "    Write a model to the specified file.\n",
    "\n",
    "    Parameters\n",
    "    ---------   \n",
    "    name: A string containg the filename to which the model should be written.\n",
    "    model: The model that should be saved to the file.\n",
    "\n",
    "    Returns\n",
    "    -------\n",
    "    Nothing\n",
    "    '''\n",
    "   \n",
    "    ### YOUR CODE HERE\n",
    "    \n",
    "    # Open the file by using the provided name for writing\n",
    "    with open(name, 'wb') as file:\n",
    "        # Save the model to the file\n",
    "        dump(model, file)"
   ]
  },
  {
   "cell_type": "code",
   "execution_count": 20,
   "metadata": {
    "deletable": false,
    "editable": false,
    "nbgrader": {
     "checksum": "7451dd64a4d037d8079674ea35fe8be2",
     "grade": true,
     "grade_id": "p4_test",
     "locked": true,
     "points": 1,
     "schema_version": 1,
     "solution": false
    }
   },
   "outputs": [
    {
     "name": "stderr",
     "output_type": "stream",
     "text": [
      "'rm' is not recognized as an internal or external command,\n",
      "operable program or batch file.\n"
     ]
    }
   ],
   "source": [
    "# Save model to temporary file\n",
    "persist_model('test_model.pkl', lr)\n",
    "\n",
    "# Does the file exist?\n",
    "assert_true(os.path.exists('test_model.pkl'))\n",
    "\n",
    "# Test model recreation\n",
    "with open('test_model.pkl', 'rb') as fin:\n",
    "    new_model = joblib.load(fin)\n",
    "    assert_equal(new_model.fit_intercept, True)\n",
    "\n",
    "# Remove the temporary file\n",
    "!rm test_model.pkl"
   ]
  },
  {
   "cell_type": "markdown",
   "metadata": {
    "deletable": false,
    "editable": false
   },
   "source": [
    "**&copy; 2017: Robert J. Brunner at the University of Illinois.**\n",
    "\n",
    "This notebook is released under the [Creative Commons license CC BY-NC-SA 4.0][ll]. Any reproduction, adaptation, distribution, dissemination or making available of this notebook for commercial use is not allowed unless authorized in writing by the copyright holder.\n",
    "\n",
    "[ll]: https://creativecommons.org/licenses/by-nc-sa/4.0/legalcode "
   ]
  }
 ],
 "metadata": {
  "coursera": {
   "course_slug": "data-analytics-accountancy-2",
   "graded_item_id": "GrQNK",
   "launcher_item_id": "52SnZ"
  },
  "kernelspec": {
   "display_name": "Python 3 (ipykernel)",
   "language": "python",
   "name": "python3"
  },
  "language_info": {
   "codemirror_mode": {
    "name": "ipython",
    "version": 3
   },
   "file_extension": ".py",
   "mimetype": "text/x-python",
   "name": "python",
   "nbconvert_exporter": "python",
   "pygments_lexer": "ipython3",
   "version": "3.9.12"
  }
 },
 "nbformat": 4,
 "nbformat_minor": 2
}
