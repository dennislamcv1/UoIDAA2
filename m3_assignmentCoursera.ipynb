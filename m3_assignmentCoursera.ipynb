{
 "cells": [
  {
   "cell_type": "markdown",
   "metadata": {
    "deletable": false,
    "editable": false
   },
   "source": [
    "# Module 3 Assignment\n",
    "\n",
    "A few things you should keep in mind when working on assignments:\n",
    "\n",
    "1. Make sure you fill in any place that says `# YOUR CODE HERE`. Do not write your answer anywhere else other than where it says `# YOUR CODE HERE`. Anything you write elsewhere will be removed or overwritten by the autograder.\n",
    "2. Before you submit your assignment, make sure everything runs as expected. Go to the menubar, select Kernel, and restart the kernel and run all cells (Restart & Run all).\n",
    "3. Do not change the title (i.e. file name) of this notebook.\n",
    "4. Make sure that you save your work (in the menubar, select File → Save and CheckPoint).\n",
    "5. All work must be your own, if you do use any code from another source (such as a course notebook or a website) you need to properly cite the source.\n",
    "\n",
    "-----"
   ]
  },
  {
   "cell_type": "code",
   "execution_count": 1,
   "metadata": {
    "collapsed": true,
    "deletable": false,
    "editable": false
   },
   "outputs": [],
   "source": [
    "import pandas as pd\n",
    "import numpy as np\n",
    "\n",
    "from sklearn.model_selection import train_test_split\n",
    "\n",
    "from nose.tools import assert_equal, assert_almost_equal, assert_true, assert_is_instance"
   ]
  },
  {
   "cell_type": "markdown",
   "metadata": {
    "deletable": false,
    "editable": false
   },
   "source": [
    "-----\n",
    "\n",
    "## Loading Breast Cancer Data\n",
    "\n",
    "In this assignment, we will work with a breast cancer data set to make predictive models. Before we build a model, we first load the data into the assignment notebook, and randomly sample several rows. The second Code cell splits the DataFrame into a training and testing data set, respectively, before creating the features and labels to use for our classification task.\n",
    "\n",
    "-----"
   ]
  },
  {
   "cell_type": "code",
   "execution_count": 2,
   "metadata": {
    "deletable": false,
    "editable": false
   },
   "outputs": [
    {
     "data": {
      "text/html": [
       "<div>\n",
       "<style scoped>\n",
       "    .dataframe tbody tr th:only-of-type {\n",
       "        vertical-align: middle;\n",
       "    }\n",
       "\n",
       "    .dataframe tbody tr th {\n",
       "        vertical-align: top;\n",
       "    }\n",
       "\n",
       "    .dataframe thead th {\n",
       "        text-align: right;\n",
       "    }\n",
       "</style>\n",
       "<table border=\"1\" class=\"dataframe\">\n",
       "  <thead>\n",
       "    <tr style=\"text-align: right;\">\n",
       "      <th></th>\n",
       "      <th>id</th>\n",
       "      <th>clump thickness</th>\n",
       "      <th>uniformity cell size</th>\n",
       "      <th>uniformity cell shape</th>\n",
       "      <th>marginal adhesion</th>\n",
       "      <th>epithelial cell size</th>\n",
       "      <th>bare nuclei</th>\n",
       "      <th>bland chromatin</th>\n",
       "      <th>normal nucleoli</th>\n",
       "      <th>mitoses</th>\n",
       "      <th>class</th>\n",
       "    </tr>\n",
       "  </thead>\n",
       "  <tbody>\n",
       "    <tr>\n",
       "      <th>35</th>\n",
       "      <td>1080185</td>\n",
       "      <td>10</td>\n",
       "      <td>10</td>\n",
       "      <td>10</td>\n",
       "      <td>8</td>\n",
       "      <td>6</td>\n",
       "      <td>1</td>\n",
       "      <td>8</td>\n",
       "      <td>9</td>\n",
       "      <td>1</td>\n",
       "      <td>4</td>\n",
       "    </tr>\n",
       "    <tr>\n",
       "      <th>38</th>\n",
       "      <td>1091262</td>\n",
       "      <td>2</td>\n",
       "      <td>5</td>\n",
       "      <td>3</td>\n",
       "      <td>3</td>\n",
       "      <td>6</td>\n",
       "      <td>7</td>\n",
       "      <td>7</td>\n",
       "      <td>5</td>\n",
       "      <td>1</td>\n",
       "      <td>4</td>\n",
       "    </tr>\n",
       "    <tr>\n",
       "      <th>444</th>\n",
       "      <td>1267898</td>\n",
       "      <td>5</td>\n",
       "      <td>1</td>\n",
       "      <td>3</td>\n",
       "      <td>1</td>\n",
       "      <td>2</td>\n",
       "      <td>1</td>\n",
       "      <td>1</td>\n",
       "      <td>1</td>\n",
       "      <td>1</td>\n",
       "      <td>2</td>\n",
       "    </tr>\n",
       "    <tr>\n",
       "      <th>330</th>\n",
       "      <td>822829</td>\n",
       "      <td>7</td>\n",
       "      <td>6</td>\n",
       "      <td>4</td>\n",
       "      <td>8</td>\n",
       "      <td>10</td>\n",
       "      <td>10</td>\n",
       "      <td>9</td>\n",
       "      <td>5</td>\n",
       "      <td>3</td>\n",
       "      <td>4</td>\n",
       "    </tr>\n",
       "    <tr>\n",
       "      <th>621</th>\n",
       "      <td>1275807</td>\n",
       "      <td>4</td>\n",
       "      <td>2</td>\n",
       "      <td>4</td>\n",
       "      <td>3</td>\n",
       "      <td>2</td>\n",
       "      <td>2</td>\n",
       "      <td>2</td>\n",
       "      <td>1</td>\n",
       "      <td>1</td>\n",
       "      <td>2</td>\n",
       "    </tr>\n",
       "  </tbody>\n",
       "</table>\n",
       "</div>"
      ],
      "text/plain": [
       "          id  clump thickness  uniformity cell size  uniformity cell shape  \\\n",
       "35   1080185               10                    10                     10   \n",
       "38   1091262                2                     5                      3   \n",
       "444  1267898                5                     1                      3   \n",
       "330   822829                7                     6                      4   \n",
       "621  1275807                4                     2                      4   \n",
       "\n",
       "     marginal adhesion  epithelial cell size  bare nuclei  bland chromatin  \\\n",
       "35                   8                     6            1                8   \n",
       "38                   3                     6            7                7   \n",
       "444                  1                     2            1                1   \n",
       "330                  8                    10           10                9   \n",
       "621                  3                     2            2                2   \n",
       "\n",
       "     normal nucleoli  mitoses  class  \n",
       "35                 9        1      4  \n",
       "38                 5        1      4  \n",
       "444                1        1      2  \n",
       "330                5        3      4  \n",
       "621                1        1      2  "
      ]
     },
     "execution_count": 2,
     "metadata": {},
     "output_type": "execute_result"
    }
   ],
   "source": [
    "# Load data\n",
    "df = pd.read_csv('./breast-cancer-wisconsin.data')\n",
    "df.sample(5)"
   ]
  },
  {
   "cell_type": "code",
   "execution_count": 3,
   "metadata": {
    "collapsed": true,
    "deletable": false,
    "editable": false
   },
   "outputs": [],
   "source": [
    "# Split data into training and testing DataFrames\n",
    "train, test = train_test_split(df, test_size=0.25, random_state=0)\n",
    "\n",
    "# Create training features and label\n",
    "y = train['class']\n",
    "X = train.drop('class', axis=1)\n",
    "\n",
    "# Create testing features and label\n",
    "yTest = test['class']\n",
    "XTest = test.drop('class', axis=1)"
   ]
  },
  {
   "cell_type": "markdown",
   "metadata": {
    "deletable": false,
    "editable": false
   },
   "source": [
    "-----\n",
    "\n",
    "## Problem 1: Creating a Random Forest Classifier\n",
    "\n",
    "For this problem, you will complete the `classify` function, provided below, to complete the following tasks:\n",
    "- Create a random forest classifier by using the `RandomForestClassifier` estimator in the scikit learn library.\n",
    "- When creating the RandomForestClassifier estimator assign the `s_estimators` hyperparameter to the `ne` parameter, assign the `random_state` hyperparameter to the `rs` parameter, and leave the other parameters as their default values.\n",
    "- Fit this `RandomForestClassifier` estimator to the X (which are the features) and y (which are the labels) DataFrames.\n",
    "- Return the RandomForestClassifier model.\n",
    "\n",
    "-----"
   ]
  },
  {
   "cell_type": "code",
   "execution_count": 4,
   "metadata": {
    "collapsed": true,
    "deletable": false,
    "nbgrader": {
     "checksum": "58f921344d6a3a33c79642c8c56462e9",
     "grade": false,
     "grade_id": "p1_answer",
     "locked": false,
     "schema_version": 1,
     "solution": true
    }
   },
   "outputs": [],
   "source": [
    "from sklearn.ensemble import RandomForestClassifier\n",
    "\n",
    "def classify(X, y, rs=0, ne=10):\n",
    "    '''\n",
    "    Create and fit a RandomForestClassifier estimator to training data.\n",
    "    \n",
    "    Parameters\n",
    "    ---------\n",
    "    X : Pandas DataFrame\n",
    "    y : Pandas DataFrame\n",
    "    rs: seed for random number generator\n",
    "    ne: float for number of estimators\n",
    "    \n",
    "    Returns\n",
    "    -------\n",
    "    The RandomForestClassifier estimator\n",
    "    '''\n",
    "    \n",
    "    ### YOUR CODE HERE\n",
    "    \n",
    "    rf = RandomForestClassifier(n_estimators=ne, random_state=rs)\n",
    "    \n",
    "    rf_model = rf.fit(X,y)\n",
    "    \n",
    "    return rf_model"
   ]
  },
  {
   "cell_type": "code",
   "execution_count": 5,
   "metadata": {
    "collapsed": true,
    "deletable": false,
    "editable": false,
    "nbgrader": {
     "checksum": "acb93219e5a8e80ba5e6231c3e7013f9",
     "grade": true,
     "grade_id": "p1_test",
     "locked": true,
     "points": 1,
     "schema_version": 1,
     "solution": false
    }
   },
   "outputs": [],
   "source": [
    "# Classify data by using different numbers of tress in the forest\n",
    "rfc1 = classify(X, y, rs=0, ne=1)\n",
    "rfc5 = classify(X, y, rs=0, ne=5)\n",
    "rfc10 = classify(X, y, rs=0, ne=10)\n",
    "rfc20 = classify(X, y, rs=0, ne=20)\n",
    "\n",
    "# Check solutions\n",
    "assert_almost_equal(rfc1.score(XTest,yTest), 0.9356, places=2)\n",
    "assert_almost_equal(rfc5.score(XTest,yTest), 0.9532, places=2)\n",
    "assert_almost_equal(rfc10.score(XTest,yTest), 0.9415, places=2)\n",
    "assert_almost_equal(rfc20.score(XTest,yTest), 0.9473, places=2)"
   ]
  },
  {
   "cell_type": "markdown",
   "metadata": {
    "deletable": false,
    "editable": false
   },
   "source": [
    "-----\n",
    "\n",
    "We now load a raw version of the breast cancer data set, which we will use in the remaining two problems. The first Code cell below loads these data and samples several instances. The second Code cell generates features and  labels.\n",
    "\n",
    "-----"
   ]
  },
  {
   "cell_type": "code",
   "execution_count": 6,
   "metadata": {
    "deletable": false,
    "editable": false
   },
   "outputs": [
    {
     "data": {
      "text/html": [
       "<div>\n",
       "<style scoped>\n",
       "    .dataframe tbody tr th:only-of-type {\n",
       "        vertical-align: middle;\n",
       "    }\n",
       "\n",
       "    .dataframe tbody tr th {\n",
       "        vertical-align: top;\n",
       "    }\n",
       "\n",
       "    .dataframe thead th {\n",
       "        text-align: right;\n",
       "    }\n",
       "</style>\n",
       "<table border=\"1\" class=\"dataframe\">\n",
       "  <thead>\n",
       "    <tr style=\"text-align: right;\">\n",
       "      <th></th>\n",
       "      <th>id</th>\n",
       "      <th>clump thickness</th>\n",
       "      <th>uniformity cell size</th>\n",
       "      <th>uniformity cell shape</th>\n",
       "      <th>marginal adhesion</th>\n",
       "      <th>epithelial cell size</th>\n",
       "      <th>bare nuclei</th>\n",
       "      <th>bland chromatin</th>\n",
       "      <th>normal nucleoli</th>\n",
       "      <th>mitoses</th>\n",
       "      <th>class</th>\n",
       "    </tr>\n",
       "  </thead>\n",
       "  <tbody>\n",
       "    <tr>\n",
       "      <th>329</th>\n",
       "      <td>760239</td>\n",
       "      <td>10</td>\n",
       "      <td>4</td>\n",
       "      <td>6</td>\n",
       "      <td>4</td>\n",
       "      <td>5</td>\n",
       "      <td>10.0</td>\n",
       "      <td>7</td>\n",
       "      <td>1</td>\n",
       "      <td>1</td>\n",
       "      <td>4</td>\n",
       "    </tr>\n",
       "    <tr>\n",
       "      <th>520</th>\n",
       "      <td>333093</td>\n",
       "      <td>1</td>\n",
       "      <td>1</td>\n",
       "      <td>1</td>\n",
       "      <td>1</td>\n",
       "      <td>3</td>\n",
       "      <td>1.0</td>\n",
       "      <td>1</td>\n",
       "      <td>1</td>\n",
       "      <td>1</td>\n",
       "      <td>2</td>\n",
       "    </tr>\n",
       "    <tr>\n",
       "      <th>111</th>\n",
       "      <td>1171845</td>\n",
       "      <td>8</td>\n",
       "      <td>6</td>\n",
       "      <td>4</td>\n",
       "      <td>3</td>\n",
       "      <td>5</td>\n",
       "      <td>9.0</td>\n",
       "      <td>3</td>\n",
       "      <td>1</td>\n",
       "      <td>1</td>\n",
       "      <td>4</td>\n",
       "    </tr>\n",
       "    <tr>\n",
       "      <th>102</th>\n",
       "      <td>1167471</td>\n",
       "      <td>4</td>\n",
       "      <td>1</td>\n",
       "      <td>2</td>\n",
       "      <td>1</td>\n",
       "      <td>2</td>\n",
       "      <td>1.0</td>\n",
       "      <td>3</td>\n",
       "      <td>1</td>\n",
       "      <td>1</td>\n",
       "      <td>2</td>\n",
       "    </tr>\n",
       "    <tr>\n",
       "      <th>606</th>\n",
       "      <td>353098</td>\n",
       "      <td>4</td>\n",
       "      <td>1</td>\n",
       "      <td>1</td>\n",
       "      <td>2</td>\n",
       "      <td>2</td>\n",
       "      <td>1.0</td>\n",
       "      <td>1</td>\n",
       "      <td>1</td>\n",
       "      <td>1</td>\n",
       "      <td>2</td>\n",
       "    </tr>\n",
       "  </tbody>\n",
       "</table>\n",
       "</div>"
      ],
      "text/plain": [
       "          id  clump thickness  uniformity cell size  uniformity cell shape  \\\n",
       "329   760239               10                     4                      6   \n",
       "520   333093                1                     1                      1   \n",
       "111  1171845                8                     6                      4   \n",
       "102  1167471                4                     1                      2   \n",
       "606   353098                4                     1                      1   \n",
       "\n",
       "     marginal adhesion  epithelial cell size  bare nuclei  bland chromatin  \\\n",
       "329                  4                     5         10.0                7   \n",
       "520                  1                     3          1.0                1   \n",
       "111                  3                     5          9.0                3   \n",
       "102                  1                     2          1.0                3   \n",
       "606                  2                     2          1.0                1   \n",
       "\n",
       "     normal nucleoli  mitoses  class  \n",
       "329                1        1      4  \n",
       "520                1        1      2  \n",
       "111                1        1      4  \n",
       "102                1        1      2  \n",
       "606                1        1      2  "
      ]
     },
     "execution_count": 6,
     "metadata": {},
     "output_type": "execute_result"
    }
   ],
   "source": [
    "# Load uncleaned data\n",
    "df = pd.read_csv('./breast-cancer-wisconsin-not-cleaned.data')\n",
    "df.sample(5)"
   ]
  },
  {
   "cell_type": "code",
   "execution_count": 7,
   "metadata": {
    "collapsed": true,
    "deletable": false,
    "editable": false
   },
   "outputs": [],
   "source": [
    "# Create labels (y) and features (X)\n",
    "y = df['class']\n",
    "X = df.drop('class', axis=1)"
   ]
  },
  {
   "cell_type": "markdown",
   "metadata": {
    "deletable": false,
    "editable": false
   },
   "source": [
    "-----\n",
    "\n",
    "## Problem 2: Creating a Data Pre-Processing Pipeline\n",
    "\n",
    "Previously, we have often cleaned data, such as the breast cancer dataset, by removing rows that contained a _NaN_. In this problem, however, we will instead create a pipeline that replaces, or imputes, missing values (i.e., _NaN_) with the mean value of the appropriate column. After this, the pipeline will apply a standard scaling to the columns. Thus, to complete this problem, you must explicitly:\n",
    "- Create an `Imputer` by using the scikit learn library. When creating this object, set the `missing_values` argument to `'NaN'`, the `strategy` argument to `'mean'`, the `axis` argument to `0`, and set `copy=False`.\n",
    "- Create a `StandardScaler` by using the scikit learn library, leaving the parameters as their default values.\n",
    "- Create a pipeline. **Important:** The first item in the pipeline must be the `Imputer` with the name `'imp'`, while the second item in the pipeline must be the `StandardScaler` use the name `'ss'`.\n",
    "- Apply the pipeline to fit and transform the features (X) and the labels (y).\n",
    "- Return the preprocessing pipeline and the transformed  features.\n",
    "\n",
    "-----"
   ]
  },
  {
   "cell_type": "code",
   "execution_count": 8,
   "metadata": {
    "collapsed": true,
    "deletable": false,
    "nbgrader": {
     "checksum": "e576712f10e2ae3c245a4a48c2bd9e05",
     "grade": false,
     "grade_id": "p2_answer",
     "locked": false,
     "schema_version": 1,
     "solution": true
    }
   },
   "outputs": [],
   "source": [
    "from sklearn.pipeline import Pipeline\n",
    "from sklearn.preprocessing import Imputer, StandardScaler\n",
    "\n",
    "def preprocess(X, y):\n",
    "    '''\n",
    "    Create and fit a RandomForestClassifier pipeline to training data, \n",
    "    and compute the mean accuracy score from the testing data.\n",
    "    \n",
    "    Parameters\n",
    "    ---------\n",
    "    X : Pandas DataFrame\n",
    "    y : Pandas DataFrame\n",
    "\n",
    "    Returns\n",
    "    -------\n",
    "    The pipeline used to clean the data and the cleaned features as a NumPy array\n",
    "    '''\n",
    "\n",
    "    ### YOUR CODE HERE\n",
    "     # Create an Imputer to replace missing values with the mean\n",
    "    imputer = Imputer(missing_values='NaN', strategy='mean', axis=0, copy=False)\n",
    "    \n",
    "     # Create a StandardScaler for standardizing the features\n",
    "    scaler = StandardScaler()\n",
    "    \n",
    "    # Create a pipeline with the Imputer and StandardScaler\n",
    "    pipeline = Pipeline([('imp', imputer), ('ss', scaler)])\n",
    "    \n",
    "    # Fit and transform the features and labels using the pipeline\n",
    "    transformed_X = pipeline.fit_transform(X, y)\n",
    "    \n",
    "    # Return the preprocessing pipeline and the transformed features\n",
    "    return pipeline, transformed_X"
   ]
  },
  {
   "cell_type": "code",
   "execution_count": 9,
   "metadata": {
    "deletable": false,
    "editable": false,
    "nbgrader": {
     "checksum": "56b0e3b88e4b7c1f91a5802b4c20c546",
     "grade": true,
     "grade_id": "p2_test",
     "locked": true,
     "points": 1,
     "schema_version": 1,
     "solution": false
    }
   },
   "outputs": [],
   "source": [
    "# Apply pipeline to uncleaned data\n",
    "data_pipeline, new_X = preprocess(X, y)\n",
    "\n",
    "# Test pipeline\n",
    "assert_equal(type(data_pipeline), Pipeline, \n",
    "             msg='Please return a pipeline object as the first object')\n",
    "\n",
    "assert_equal(new_X[30][0], -0.0012472123989550703)\n",
    "assert_equal(new_X[100][0], 0.15397593605209656)\n",
    "assert_equal(new_X[123][0], 0.16658267824600242)\n",
    "assert_equal(new_X[256][0], 0.17951699465179008)\n",
    "assert_equal(new_X[512][0], 0.37020734898435897)\n",
    "\n",
    "assert_equal(type(data_pipeline.get_params()['imp']), type(Imputer()), \n",
    "             msg='You  did not label the imputer \"imp\" or did not make an Imputer Object')\n",
    "\n",
    "assert_equal(type(data_pipeline.get_params()['steps'][0][1]), Imputer, \n",
    "             msg='You need to create a Imputer First')\n",
    "\n",
    "assert_equal(data_pipeline.get_params()['imp__missing_values'], 'NaN', \n",
    "             msg='set missing values to NaN')\n",
    "\n",
    "assert_equal(data_pipeline.get_params()['imp__strategy'], 'mean', \n",
    "             msg='Set strategy to mean')\n",
    "\n",
    "assert_equal(type(data_pipeline.get_params()['ss']), type(StandardScaler()), \n",
    "             msg='You  did not create a Standard Scaler labeled \"ss\" ')"
   ]
  },
  {
   "cell_type": "markdown",
   "metadata": {
    "deletable": false,
    "editable": false
   },
   "source": [
    "-----\n",
    "\n",
    "We now need to split the newly cleaned data into training and testing data sets in order to create and apply a classifier pipeline to these data.\n",
    "\n",
    "-----"
   ]
  },
  {
   "cell_type": "code",
   "execution_count": 10,
   "metadata": {
    "collapsed": true,
    "deletable": false,
    "editable": false
   },
   "outputs": [],
   "source": [
    "trainX, testX, trainY, testY = train_test_split(new_X, y, random_state=0)"
   ]
  },
  {
   "cell_type": "markdown",
   "metadata": {
    "deletable": false,
    "editable": false
   },
   "source": [
    "-----\n",
    "\n",
    "## Problem 3: Creating a Random Forest Pipeline\n",
    "\n",
    "For this problem, you will finish the `rfcp` template function provided below by creating a random forest pipeline. This will require that you complete the following tasks:\n",
    "- Create a random forest classifier by using the scikit learn RandomForestClassifer estimator. Do not change any of the default hyperparameters for this estimator.\n",
    "- Create a pipeline that includes this random forest classifier, and label the classifier `rfc`.\n",
    "- Set the random_state of the random forest classifier in the pipeline to the value specified by the `rs` parameter.\n",
    "- Fit the pipeline to the training data.\n",
    "- Calculate the mean accuracy of the random forest classifier in the pipeline from the test data.\n",
    "- Return the pipeline and the mean accuracy score.\n",
    "\n",
    "-----"
   ]
  },
  {
   "cell_type": "code",
   "execution_count": 11,
   "metadata": {
    "collapsed": true,
    "deletable": false,
    "nbgrader": {
     "checksum": "6dc713922a26d1d067f6c6eab7e33145",
     "grade": false,
     "grade_id": "p3_answer",
     "locked": false,
     "schema_version": 1,
     "solution": true
    }
   },
   "outputs": [],
   "source": [
    "def rfcp(trainX, trainY, testX, testY, rs=0):\n",
    "    '''\n",
    "    Create and fit a RandomForestClassifier pipeline to training data, \n",
    "    and compute the mean accuracy score from the testing data.\n",
    "    \n",
    "    Parameters\n",
    "    ---------\n",
    "    trainX : NumPy array (features)\n",
    "    trainY : NumPy array (labels)\n",
    "    testX : NumPy array (features)\n",
    "    testY : NumPy array (labels)\n",
    "    rs: random state\n",
    "\n",
    "    Returns\n",
    "    -------\n",
    "    The pipeline and a float containing the mean accuracy score\n",
    "    '''\n",
    "\n",
    "    ### YOUR CODE HERE\n",
    "    \n",
    "    from sklearn.metrics import accuracy_score\n",
    "    \n",
    "    # Create a RandomForestClassifier\n",
    "    classifier = RandomForestClassifier(random_state=rs)\n",
    "    \n",
    "    # Create a pipeline with RandomForestClassifier\n",
    "    pipeline = Pipeline([('rfc', classifier)])\n",
    "    \n",
    "    # Fit the pipeline to the training data\n",
    "    pipeline.fit(trainX, trainY)\n",
    "    \n",
    "    # Compute the mean accuracy score on the testing data\n",
    "    accuracy = accuracy_score(testY, pipeline.predict(testX))\n",
    "    \n",
    "    # Return the pipeline used to clean the data and the cleaned features as a NumPy array\n",
    "    return pipeline, accuracy"
   ]
  },
  {
   "cell_type": "code",
   "execution_count": 12,
   "metadata": {
    "deletable": false,
    "editable": false,
    "nbgrader": {
     "checksum": "7d799bc31332bab5b9c5648f63597fba",
     "grade": true,
     "grade_id": "p3_test",
     "locked": true,
     "points": 1,
     "schema_version": 1,
     "solution": false
    }
   },
   "outputs": [],
   "source": [
    "# Create and apply the RFC pipeline\n",
    "ml_pipeline, score = rfcp(trainX, trainY, testX, testY, rs=0)\n",
    "\n",
    "# Test the pipeline\n",
    "assert_equal(type(ml_pipeline.get_params()['rfc']), type(RandomForestClassifier()))\n",
    "assert_almost_equal(score, 0.9555, places=2)"
   ]
  },
  {
   "cell_type": "markdown",
   "metadata": {
    "deletable": false,
    "editable": false
   },
   "source": [
    "**&copy; 2017: Robert J. Brunner at the University of Illinois.**\n",
    "\n",
    "This notebook is released under the [Creative Commons license CC BY-NC-SA 4.0][ll]. Any reproduction, adaptation, distribution, dissemination or making available of this notebook for commercial use is not allowed unless authorized in writing by the copyright holder.\n",
    "\n",
    "[ll]: https://creativecommons.org/licenses/by-nc-sa/4.0/legalcode "
   ]
  }
 ],
 "metadata": {
  "coursera": {
   "course_slug": "data-analytics-accountancy-2",
   "graded_item_id": "JlF8G",
   "launcher_item_id": "m3_assignment"
  },
  "kernelspec": {
   "display_name": "Python 3",
   "language": "python",
   "name": "python3"
  },
  "language_info": {
   "codemirror_mode": {
    "name": "ipython",
    "version": 3
   },
   "file_extension": ".py",
   "mimetype": "text/x-python",
   "name": "python",
   "nbconvert_exporter": "python",
   "pygments_lexer": "ipython3",
   "version": "3.6.5"
  }
 },
 "nbformat": 4,
 "nbformat_minor": 2
}
