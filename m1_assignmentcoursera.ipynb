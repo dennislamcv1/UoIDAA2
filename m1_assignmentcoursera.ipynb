{
 "cells": [
  {
   "cell_type": "markdown",
   "metadata": {},
   "source": [
    "# Module 1 Assignment\n",
    "\n",
    "A few things you should keep in mind when working on assignments:\n",
    "\n",
    "1. Make sure you fill in any place that says `# YOUR CODE HERE`. Do not write your answer anywhere else other than where it says `# YOUR CODE HERE`. Anything you write elsewhere will be removed or overwritten by the autograder.\n",
    "2. Before you submit your assignment, make sure everything runs as expected. Go to the menubar, select Kernel, and restart the kernel and run all cells (Restart & Run all).\n",
    "3. Do not change the title (i.e. file name) of this notebook.\n",
    "4. Make sure that you save your work (in the menubar, select File → Save and CheckPoint).\n",
    "5. All work must be your own, if you do use any code from another source (such as a course notebook or a website) you need to properly cite the source.\n",
    "\n",
    "-----"
   ]
  },
  {
   "cell_type": "code",
   "execution_count": 1,
   "metadata": {
    "collapsed": true,
    "deletable": false,
    "editable": false,
    "nbgrader": {
     "checksum": "6ff1fb74c64b6c31bf87469169ddf342",
     "grade": false,
     "grade_id": "cell-d95b3d9bf9f7276d",
     "locked": true,
     "schema_version": 1,
     "solution": false
    }
   },
   "outputs": [],
   "source": [
    "import pandas as pd\n",
    "import numpy as np\n",
    "\n",
    "from nose.tools import assert_equal, assert_almost_equal, assert_true, assert_is_instance"
   ]
  },
  {
   "cell_type": "markdown",
   "metadata": {
    "collapsed": true,
    "deletable": false,
    "editable": false
   },
   "source": [
    "-----\n",
    "\n",
    "## Predicting the Price of a Car\n",
    "\n",
    "In this assignment, we will use a partially cleaned dataset to make a predictive model. Before we attempt to build a mode, we first must load the data, select the independent feature, and the dependent label. The first Code cell below reads the data from a CSV file and displays several random instances. The second Code cell selects the independent features (`make`) and the dependent label (`price`), and displays the first few instances in this new DataFrame. \n",
    "\n",
    "-----"
   ]
  },
  {
   "cell_type": "code",
   "execution_count": 2,
   "metadata": {
    "deletable": false,
    "editable": false
   },
   "outputs": [
    {
     "data": {
      "text/html": [
       "<div>\n",
       "<style scoped>\n",
       "    .dataframe tbody tr th:only-of-type {\n",
       "        vertical-align: middle;\n",
       "    }\n",
       "\n",
       "    .dataframe tbody tr th {\n",
       "        vertical-align: top;\n",
       "    }\n",
       "\n",
       "    .dataframe thead th {\n",
       "        text-align: right;\n",
       "    }\n",
       "</style>\n",
       "<table border=\"1\" class=\"dataframe\">\n",
       "  <thead>\n",
       "    <tr style=\"text-align: right;\">\n",
       "      <th></th>\n",
       "      <th>symboling</th>\n",
       "      <th>normalized-losses</th>\n",
       "      <th>make</th>\n",
       "      <th>fuel-type</th>\n",
       "      <th>aspiration</th>\n",
       "      <th>num-of-doors</th>\n",
       "      <th>body-style</th>\n",
       "      <th>drive-wheels</th>\n",
       "      <th>'engine-location'</th>\n",
       "      <th>wheel-base</th>\n",
       "      <th>...</th>\n",
       "      <th>engine-size</th>\n",
       "      <th>fuel-system</th>\n",
       "      <th>bore</th>\n",
       "      <th>stroke</th>\n",
       "      <th>compression-ratio'</th>\n",
       "      <th>horsepower</th>\n",
       "      <th>peak-rpm</th>\n",
       "      <th>city-mpg</th>\n",
       "      <th>highway</th>\n",
       "      <th>price</th>\n",
       "    </tr>\n",
       "  </thead>\n",
       "  <tbody>\n",
       "    <tr>\n",
       "      <th>87</th>\n",
       "      <td>1</td>\n",
       "      <td>125</td>\n",
       "      <td>11</td>\n",
       "      <td>1</td>\n",
       "      <td>turbo</td>\n",
       "      <td>4.0</td>\n",
       "      <td>2</td>\n",
       "      <td>fwd</td>\n",
       "      <td>front</td>\n",
       "      <td>96.3</td>\n",
       "      <td>...</td>\n",
       "      <td>110</td>\n",
       "      <td>spdi</td>\n",
       "      <td>3.17</td>\n",
       "      <td>3.46</td>\n",
       "      <td>7.5</td>\n",
       "      <td>116</td>\n",
       "      <td>5500</td>\n",
       "      <td>23</td>\n",
       "      <td>30</td>\n",
       "      <td>9279.0</td>\n",
       "    </tr>\n",
       "    <tr>\n",
       "      <th>13</th>\n",
       "      <td>0</td>\n",
       "      <td>188</td>\n",
       "      <td>2</td>\n",
       "      <td>1</td>\n",
       "      <td>std</td>\n",
       "      <td>4.0</td>\n",
       "      <td>2</td>\n",
       "      <td>rwd</td>\n",
       "      <td>front</td>\n",
       "      <td>101.2</td>\n",
       "      <td>...</td>\n",
       "      <td>164</td>\n",
       "      <td>mpfi</td>\n",
       "      <td>3.31</td>\n",
       "      <td>3.19</td>\n",
       "      <td>9.0</td>\n",
       "      <td>121</td>\n",
       "      <td>4250</td>\n",
       "      <td>21</td>\n",
       "      <td>28</td>\n",
       "      <td>21105.0</td>\n",
       "    </tr>\n",
       "    <tr>\n",
       "      <th>64</th>\n",
       "      <td>0</td>\n",
       "      <td>115</td>\n",
       "      <td>8</td>\n",
       "      <td>1</td>\n",
       "      <td>std</td>\n",
       "      <td>4.0</td>\n",
       "      <td>3</td>\n",
       "      <td>fwd</td>\n",
       "      <td>front</td>\n",
       "      <td>98.8</td>\n",
       "      <td>...</td>\n",
       "      <td>122</td>\n",
       "      <td>2bbl</td>\n",
       "      <td>3.39</td>\n",
       "      <td>3.39</td>\n",
       "      <td>8.6</td>\n",
       "      <td>84</td>\n",
       "      <td>4800</td>\n",
       "      <td>26</td>\n",
       "      <td>32</td>\n",
       "      <td>11245.0</td>\n",
       "    </tr>\n",
       "    <tr>\n",
       "      <th>4</th>\n",
       "      <td>2</td>\n",
       "      <td>164</td>\n",
       "      <td>1</td>\n",
       "      <td>1</td>\n",
       "      <td>std</td>\n",
       "      <td>4.0</td>\n",
       "      <td>2</td>\n",
       "      <td>4wd</td>\n",
       "      <td>front</td>\n",
       "      <td>99.4</td>\n",
       "      <td>...</td>\n",
       "      <td>136</td>\n",
       "      <td>mpfi</td>\n",
       "      <td>3.19</td>\n",
       "      <td>3.40</td>\n",
       "      <td>8.0</td>\n",
       "      <td>115</td>\n",
       "      <td>5500</td>\n",
       "      <td>18</td>\n",
       "      <td>22</td>\n",
       "      <td>17450.0</td>\n",
       "    </tr>\n",
       "    <tr>\n",
       "      <th>33</th>\n",
       "      <td>1</td>\n",
       "      <td>101</td>\n",
       "      <td>5</td>\n",
       "      <td>1</td>\n",
       "      <td>std</td>\n",
       "      <td>2.0</td>\n",
       "      <td>3</td>\n",
       "      <td>fwd</td>\n",
       "      <td>front</td>\n",
       "      <td>93.7</td>\n",
       "      <td>...</td>\n",
       "      <td>92</td>\n",
       "      <td>1bbl</td>\n",
       "      <td>2.91</td>\n",
       "      <td>3.41</td>\n",
       "      <td>9.2</td>\n",
       "      <td>76</td>\n",
       "      <td>6000</td>\n",
       "      <td>30</td>\n",
       "      <td>34</td>\n",
       "      <td>6529.0</td>\n",
       "    </tr>\n",
       "  </tbody>\n",
       "</table>\n",
       "<p>5 rows × 26 columns</p>\n",
       "</div>"
      ],
      "text/plain": [
       "    symboling  normalized-losses  make  fuel-type aspiration  num-of-doors  \\\n",
       "87          1                125    11          1      turbo           4.0   \n",
       "13          0                188     2          1        std           4.0   \n",
       "64          0                115     8          1        std           4.0   \n",
       "4           2                164     1          1        std           4.0   \n",
       "33          1                101     5          1        std           2.0   \n",
       "\n",
       "    body-style drive-wheels 'engine-location'  wheel-base   ...     \\\n",
       "87           2          fwd             front        96.3   ...      \n",
       "13           2          rwd             front       101.2   ...      \n",
       "64           3          fwd             front        98.8   ...      \n",
       "4            2          4wd             front        99.4   ...      \n",
       "33           3          fwd             front        93.7   ...      \n",
       "\n",
       "    engine-size  fuel-system  bore  stroke compression-ratio' horsepower  \\\n",
       "87          110         spdi  3.17    3.46                7.5        116   \n",
       "13          164         mpfi  3.31    3.19                9.0        121   \n",
       "64          122         2bbl  3.39    3.39                8.6         84   \n",
       "4           136         mpfi  3.19    3.40                8.0        115   \n",
       "33           92         1bbl  2.91    3.41                9.2         76   \n",
       "\n",
       "    peak-rpm city-mpg highway    price  \n",
       "87      5500       23      30   9279.0  \n",
       "13      4250       21      28  21105.0  \n",
       "64      4800       26      32  11245.0  \n",
       "4       5500       18      22  17450.0  \n",
       "33      6000       30      34   6529.0  \n",
       "\n",
       "[5 rows x 26 columns]"
      ]
     },
     "execution_count": 2,
     "metadata": {},
     "output_type": "execute_result"
    }
   ],
   "source": [
    "df = pd.read_csv('./imports-85.data')\n",
    "df.sample(5)"
   ]
  },
  {
   "cell_type": "code",
   "execution_count": 3,
   "metadata": {
    "deletable": false,
    "editable": false
   },
   "outputs": [
    {
     "data": {
      "text/html": [
       "<div>\n",
       "<style scoped>\n",
       "    .dataframe tbody tr th:only-of-type {\n",
       "        vertical-align: middle;\n",
       "    }\n",
       "\n",
       "    .dataframe tbody tr th {\n",
       "        vertical-align: top;\n",
       "    }\n",
       "\n",
       "    .dataframe thead th {\n",
       "        text-align: right;\n",
       "    }\n",
       "</style>\n",
       "<table border=\"1\" class=\"dataframe\">\n",
       "  <thead>\n",
       "    <tr style=\"text-align: right;\">\n",
       "      <th></th>\n",
       "      <th>make</th>\n",
       "      <th>price</th>\n",
       "    </tr>\n",
       "  </thead>\n",
       "  <tbody>\n",
       "    <tr>\n",
       "      <th>0</th>\n",
       "      <td>0</td>\n",
       "      <td>13495.0</td>\n",
       "    </tr>\n",
       "    <tr>\n",
       "      <th>1</th>\n",
       "      <td>0</td>\n",
       "      <td>16500.0</td>\n",
       "    </tr>\n",
       "    <tr>\n",
       "      <th>2</th>\n",
       "      <td>0</td>\n",
       "      <td>16500.0</td>\n",
       "    </tr>\n",
       "    <tr>\n",
       "      <th>3</th>\n",
       "      <td>1</td>\n",
       "      <td>13950.0</td>\n",
       "    </tr>\n",
       "    <tr>\n",
       "      <th>4</th>\n",
       "      <td>1</td>\n",
       "      <td>17450.0</td>\n",
       "    </tr>\n",
       "  </tbody>\n",
       "</table>\n",
       "</div>"
      ],
      "text/plain": [
       "   make    price\n",
       "0     0  13495.0\n",
       "1     0  16500.0\n",
       "2     0  16500.0\n",
       "3     1  13950.0\n",
       "4     1  17450.0"
      ]
     },
     "execution_count": 3,
     "metadata": {},
     "output_type": "execute_result"
    }
   ],
   "source": [
    "df_simple = df[['make', 'price']]\n",
    "df_simple.head()"
   ]
  },
  {
   "cell_type": "markdown",
   "metadata": {
    "deletable": false,
    "editable": false
   },
   "source": [
    "-----\n",
    "\n",
    "## Problem 1: Creating the Training and Testing Datasets\n",
    "\n",
    "The `data_split` function shown below accepts a parameter called `data` that is stored in a DataFrame. Your task is to use the `train_test_split` function available in the scikit learn library to split this DataFrame into two separate DataFrames (a testing set and training set). \n",
    "\n",
    "To complete this process, do the following:\n",
    "- Split the training and testing set into two separate DataFrames.\n",
    "- The `test_size` argument in `train_test_split` should be set to the `size` parameter.\n",
    "- The `random_state` argument in `train_test_split` should be set the `random_state` parameter.\n",
    "- Return both the training set and the testing set, in this order.\n",
    "\n",
    "-----"
   ]
  },
  {
   "cell_type": "code",
   "execution_count": 4,
   "metadata": {
    "collapsed": true,
    "deletable": false,
    "nbgrader": {
     "checksum": "1349479b8a645e353f227bf24b8d557f",
     "grade": false,
     "grade_id": "p1_answer",
     "locked": false,
     "schema_version": 1,
     "solution": true
    }
   },
   "outputs": [],
   "source": [
    "from sklearn.model_selection import train_test_split\n",
    "\n",
    "def data_split(data, size=0.25, random_state=0):\n",
    "    '''    \n",
    "    Split data into training and testing sets.\n",
    "    \n",
    "    Parameters\n",
    "    ---------\n",
    "    data: Panadas DataFrame\n",
    "    size: ratio of training and testing data\n",
    "    random_state: random seed for random number generator\n",
    "\n",
    "    Returns\n",
    "    -------\n",
    "    Two DataFrames: train and test, in that order.\n",
    "    '''\n",
    "    \n",
    "    ### YOUR CODE HERE\n",
    "    train_set, test_set = train_test_split(data, test_size=size, random_state=random_state)\n",
    "    \n",
    "    return train_set, test_set"
   ]
  },
  {
   "cell_type": "code",
   "execution_count": 5,
   "metadata": {
    "deletable": false,
    "editable": false,
    "nbgrader": {
     "checksum": "ab0e4fa21a55531ab281948dd5b0f54b",
     "grade": true,
     "grade_id": "p1_test",
     "locked": true,
     "points": 1,
     "schema_version": 1,
     "solution": false
    }
   },
   "outputs": [],
   "source": [
    "# Call function\n",
    "train, test = data_split(df_simple)\n",
    "\n",
    "# Test Data types\n",
    "assert_equal(type(train), pd.DataFrame, msg=\"train is not a DataFrame\")\n",
    "assert_equal(type(test), pd.DataFrame, msg=\"test is not a DataFrame\")\n",
    "\n",
    "# Converting to NumPy arrays for sklearn\n",
    "train_X = train.make.values.reshape(len(train.make),1)\n",
    "train_y = train.price.values\n",
    "test_X = test.make.values.reshape(len(test.make), 1)\n",
    "test_y = test.price.values\n",
    "\n",
    "# Test dependent values\n",
    "assert_almost_equal(np.sum(test_y), 689311.38805, places=2)\n",
    "assert_almost_equal(np.sum(train_y), 2018150.12935, places=2)\n",
    "\n",
    "# Test independent values\n",
    "assert_equal(train_X[1][0], 8)\n",
    "assert_equal(train_X[45][0], 13)\n",
    "assert_equal(test_X[25][0], 18)\n",
    "assert_equal(test_X[51][0], 12)"
   ]
  },
  {
   "cell_type": "markdown",
   "metadata": {
    "deletable": false,
    "editable": false
   },
   "source": [
    "-----\n",
    "\n",
    "## Problem 2: Performing Linear Regression\n",
    "\n",
    "Your task for this problem is to build and use the scikit learn library's `LinearRegression` estimator to  make predictions on the cars dataset. The framework for a regression function has been provided below, that takes two NumPy arrays containing the features (`trainX`) and the labels (`trainY`), an optional Boolean flag, `fit_intercept`, which indicates whether an intercept term should be fit as part of the linear regression. To complete this function, you must explicitly:\n",
    "- Create a `LinearRegression` estimator by using scikit learn.\n",
    "- Fit the `LinearRegression` estimator using trainX and trainY.\n",
    "- Return the resulting estimator.\n",
    "\n",
    "-----"
   ]
  },
  {
   "cell_type": "code",
   "execution_count": 6,
   "metadata": {
    "collapsed": true,
    "deletable": false,
    "nbgrader": {
     "checksum": "8442d1fb728fe4db1772a7b37d0d032c",
     "grade": false,
     "grade_id": "p2_answer",
     "locked": false,
     "schema_version": 1,
     "solution": true
    }
   },
   "outputs": [],
   "source": [
    "from sklearn.linear_model import LinearRegression\n",
    "\n",
    "def regression(trainX, trainY, fit_intercept=False):\n",
    "    '''\n",
    "    Compute a linear regression model for given training data set.\n",
    "    \n",
    "    Parameters\n",
    "    ---------\n",
    "    trainX: the training indepedent features\n",
    "    trainY: the training depedent features\n",
    "    fit_intercept: optional Boolean flag to indicate if an intercept should be fit\n",
    "\n",
    "    Returns\n",
    "    -------\n",
    "    The fitted linear regression model\n",
    "    '''\n",
    "    \n",
    "    ### YOUR CODE HERE\n",
    "    \n",
    "    lr = LinearRegression(fit_intercept=fit_intercept, n_jobs=1, normalize=False, copy_X=True)\n",
    "    lr.fit(trainX, trainY)\n",
    "    \n",
    "    return lr"
   ]
  },
  {
   "cell_type": "code",
   "execution_count": 7,
   "metadata": {
    "deletable": false,
    "editable": false,
    "nbgrader": {
     "checksum": "9da927f178b09d33ab45a577e91d4a3d",
     "grade": true,
     "grade_id": "p2_test",
     "locked": true,
     "points": 1,
     "schema_version": 1,
     "solution": false
    }
   },
   "outputs": [],
   "source": [
    "lr = regression(train_X, train_y, fit_intercept=True)\n",
    "\n",
    "assert_equal(type(lr), type(LinearRegression()))\n",
    "assert_equal(lr.get_params(), {'copy_X': True, 'fit_intercept': True, \\\n",
    "                               'n_jobs': 1, 'normalize': False})"
   ]
  },
  {
   "cell_type": "code",
   "execution_count": 8,
   "metadata": {
    "collapsed": true
   },
   "outputs": [],
   "source": [
    "from sklearn.metrics import r2_score"
   ]
  },
  {
   "cell_type": "markdown",
   "metadata": {
    "deletable": false,
    "editable": false
   },
   "source": [
    "-----\n",
    "\n",
    "## Problem 3: Checking R2 Score on Testing Dataset\n",
    "\n",
    "For this problem, you will compute the R2 score given a model, the independent features (`X`), and the dependent feature (`y`). By using the function template provided below, you must explicitly:\n",
    "- Compute the R2 score for the supplied model.\n",
    "- Return the resulting score.\n",
    "\n",
    "-----"
   ]
  },
  {
   "cell_type": "code",
   "execution_count": 9,
   "metadata": {
    "collapsed": true,
    "deletable": false,
    "nbgrader": {
     "checksum": "c7f73d8ffadb87edca43d0d97265fad6",
     "grade": false,
     "grade_id": "p3_answer",
     "locked": false,
     "schema_version": 1,
     "solution": true
    }
   },
   "outputs": [],
   "source": [
    "def r2_score(model, X, y):\n",
    "    '''\n",
    "    Compute the R2 score for a given model and data set.\n",
    "    \n",
    "    Parameters\n",
    "    ---------\n",
    "    model: linear regression model\n",
    "    X: NumPy array containing indepenent data (features)\n",
    "    y: NumPy array containing depenent data (labels)\n",
    "\n",
    "    Returns\n",
    "    -------\n",
    "    A float containing the model score\n",
    "    '''\n",
    "\n",
    "    ### YOUR CODE HERE\n",
    "    from sklearn.metrics import r2_score\n",
    "    \n",
    "    # Compute the R2 score\n",
    "    r2 = r2_score(y, model.predict(X))\n",
    "    \n",
    "    # Return the resulting score\n",
    "    return r2"
   ]
  },
  {
   "cell_type": "code",
   "execution_count": 10,
   "metadata": {
    "deletable": false,
    "editable": false,
    "nbgrader": {
     "checksum": "267ece2cdbe57ae87a9e726cb41374cd",
     "grade": true,
     "grade_id": "p3_test",
     "locked": true,
     "points": 1,
     "schema_version": 1,
     "solution": false
    }
   },
   "outputs": [],
   "source": [
    "# Compute the score\n",
    "score = r2_score(lr, train_X, train_y)\n",
    "\n",
    "# Test the score\n",
    "assert_almost_equal(0.010956, score, places=2)"
   ]
  },
  {
   "cell_type": "markdown",
   "metadata": {
    "deletable": false,
    "editable": false
   },
   "source": [
    "-----\n",
    "\n",
    "## Problem 4: Model Persistence\n",
    "\n",
    "Complete the function `persist_model`, which accepts two parameters: `name` and `model`. This function will persist the provided `model` into a new file specified by `name`. To persist the machine learning model, you should use the joblib library. By using the function template provided below, you must explicitly:\n",
    "- Open the file by using the provided name for writing.\n",
    "- Save the model to this file.\n",
    "\n",
    "-----"
   ]
  },
  {
   "cell_type": "code",
   "execution_count": 11,
   "metadata": {
    "collapsed": true,
    "deletable": false,
    "nbgrader": {
     "checksum": "76509c9a04a0a8b5e99b8e382fe699bf",
     "grade": false,
     "grade_id": "p4_answer",
     "locked": false,
     "schema_version": 1,
     "solution": true
    }
   },
   "outputs": [],
   "source": [
    "import os\n",
    "import joblib\n",
    "from joblib import dump\n",
    "\n",
    "def persist_model(name, model):\n",
    "    '''\n",
    "    Write a model to the specified file.\n",
    "\n",
    "    Parameters\n",
    "    ---------   \n",
    "    name: A string containg the filename to which the model should be written.\n",
    "    model: The model that should be saved to the file.\n",
    "\n",
    "    Returns\n",
    "    -------\n",
    "    Nothing\n",
    "    '''\n",
    "   \n",
    "    ### YOUR CODE HERE\n",
    "    \n",
    "    # Open the file by using the provided name for writing\n",
    "    with open(name, 'wb') as file:\n",
    "        # Save the model to the file\n",
    "        dump(model, file)"
   ]
  },
  {
   "cell_type": "code",
   "execution_count": 12,
   "metadata": {
    "deletable": false,
    "editable": false,
    "nbgrader": {
     "checksum": "7451dd64a4d037d8079674ea35fe8be2",
     "grade": true,
     "grade_id": "p4_test",
     "locked": true,
     "points": 1,
     "schema_version": 1,
     "solution": false
    }
   },
   "outputs": [],
   "source": [
    "# Save model to temporary file\n",
    "persist_model('test_model.pkl', lr)\n",
    "\n",
    "# Does the file exist?\n",
    "assert_true(os.path.exists('test_model.pkl'))\n",
    "\n",
    "# Test model recreation\n",
    "with open('test_model.pkl', 'rb') as fin:\n",
    "    new_model = joblib.load(fin)\n",
    "    assert_equal(new_model.fit_intercept, True)\n",
    "\n",
    "# Remove the temporary file\n",
    "!rm test_model.pkl"
   ]
  },
  {
   "cell_type": "markdown",
   "metadata": {
    "deletable": false,
    "editable": false
   },
   "source": [
    "**&copy; 2017: Robert J. Brunner at the University of Illinois.**\n",
    "\n",
    "This notebook is released under the [Creative Commons license CC BY-NC-SA 4.0][ll]. Any reproduction, adaptation, distribution, dissemination or making available of this notebook for commercial use is not allowed unless authorized in writing by the copyright holder.\n",
    "\n",
    "[ll]: https://creativecommons.org/licenses/by-nc-sa/4.0/legalcode "
   ]
  }
 ],
 "metadata": {
  "coursera": {
   "course_slug": "data-analytics-accountancy-2",
   "graded_item_id": "GrQNK",
   "launcher_item_id": "52SnZ"
  },
  "kernelspec": {
   "display_name": "Python 3 (ipykernel)",
   "language": "python",
   "name": "python3"
  },
  "language_info": {
   "codemirror_mode": {
    "name": "ipython",
    "version": 3
   },
   "file_extension": ".py",
   "mimetype": "text/x-python",
   "name": "python",
   "nbconvert_exporter": "python",
   "pygments_lexer": "ipython3",
   "version": "3.9.12"
  }
 },
 "nbformat": 4,
 "nbformat_minor": 2
}
