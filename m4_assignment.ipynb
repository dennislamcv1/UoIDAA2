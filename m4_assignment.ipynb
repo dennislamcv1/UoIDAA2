{
 "cells": [
  {
   "cell_type": "markdown",
   "metadata": {
    "deletable": false,
    "editable": false
   },
   "source": [
    "# Module 4 Assignment\n",
    "\n",
    "A few things you should keep in mind when working on assignments:\n",
    "\n",
    "1. Make sure you fill in any place that says `# YOUR CODE HERE`. Do not write your answer anywhere else other than where it says `# YOUR CODE HERE`. Anything you write elsewhere will be removed or overwritten by the autograder.\n",
    "2. Before you submit your assignment, make sure everything runs as expected. Go to the menubar, select Kernel, and restart the kernel and run all cells (Restart & Run all).\n",
    "3. Do not change the title (i.e. file name) of this notebook.\n",
    "4. Make sure that you save your work (in the menubar, select File → Save and CheckPoint).\n",
    "5. All work must be your own, if you do use any code from another source (such as a course notebook or a website) you need to properly cite the source.\n",
    "\n",
    "-----"
   ]
  },
  {
   "cell_type": "code",
   "execution_count": 1,
   "metadata": {
    "deletable": false,
    "editable": false
   },
   "outputs": [],
   "source": [
    "%matplotlib inline\n",
    "\n",
    "import pandas as pd\n",
    "import numpy as np\n",
    "\n",
    "import matplotlib.pyplot as plt\n",
    "import seaborn as sns\n",
    "\n",
    "from sklearn.model_selection import train_test_split\n",
    "\n",
    "from nose.tools import assert_equal, assert_almost_equal, assert_true, assert_is_instance"
   ]
  },
  {
   "cell_type": "markdown",
   "metadata": {
    "deletable": false,
    "editable": false
   },
   "source": [
    "-----\n",
    "\n",
    "## Loading Breast Cancer Data\n",
    "\n",
    "In this assignment, we will work with a breast cancer data set to make predictive models. Before we build a model, we first load the data into the assignment notebook, and randomly sample several rows. The second Code cell splits the DataFrame into a training and testing data set, respectively, before creating the features and labels to use for our classification task.\n",
    "\n",
    "-----"
   ]
  },
  {
   "cell_type": "code",
   "execution_count": 2,
   "metadata": {
    "deletable": false,
    "editable": false
   },
   "outputs": [
    {
     "data": {
      "text/html": [
       "<div>\n",
       "<style scoped>\n",
       "    .dataframe tbody tr th:only-of-type {\n",
       "        vertical-align: middle;\n",
       "    }\n",
       "\n",
       "    .dataframe tbody tr th {\n",
       "        vertical-align: top;\n",
       "    }\n",
       "\n",
       "    .dataframe thead th {\n",
       "        text-align: right;\n",
       "    }\n",
       "</style>\n",
       "<table border=\"1\" class=\"dataframe\">\n",
       "  <thead>\n",
       "    <tr style=\"text-align: right;\">\n",
       "      <th></th>\n",
       "      <th>id</th>\n",
       "      <th>clump thickness</th>\n",
       "      <th>uniformity cell size</th>\n",
       "      <th>uniformity cell shape</th>\n",
       "      <th>marginal adhesion</th>\n",
       "      <th>epithelial cell size</th>\n",
       "      <th>bare nuclei</th>\n",
       "      <th>bland chromatin</th>\n",
       "      <th>normal nucleoli</th>\n",
       "      <th>mitoses</th>\n",
       "      <th>class</th>\n",
       "    </tr>\n",
       "  </thead>\n",
       "  <tbody>\n",
       "    <tr>\n",
       "      <th>40</th>\n",
       "      <td>1100524</td>\n",
       "      <td>6</td>\n",
       "      <td>10</td>\n",
       "      <td>10</td>\n",
       "      <td>2</td>\n",
       "      <td>8</td>\n",
       "      <td>10</td>\n",
       "      <td>7</td>\n",
       "      <td>3</td>\n",
       "      <td>3</td>\n",
       "      <td>4</td>\n",
       "    </tr>\n",
       "    <tr>\n",
       "      <th>560</th>\n",
       "      <td>385103</td>\n",
       "      <td>5</td>\n",
       "      <td>1</td>\n",
       "      <td>2</td>\n",
       "      <td>1</td>\n",
       "      <td>2</td>\n",
       "      <td>1</td>\n",
       "      <td>3</td>\n",
       "      <td>1</td>\n",
       "      <td>1</td>\n",
       "      <td>2</td>\n",
       "    </tr>\n",
       "    <tr>\n",
       "      <th>177</th>\n",
       "      <td>1205138</td>\n",
       "      <td>5</td>\n",
       "      <td>8</td>\n",
       "      <td>8</td>\n",
       "      <td>8</td>\n",
       "      <td>5</td>\n",
       "      <td>10</td>\n",
       "      <td>7</td>\n",
       "      <td>8</td>\n",
       "      <td>1</td>\n",
       "      <td>4</td>\n",
       "    </tr>\n",
       "    <tr>\n",
       "      <th>127</th>\n",
       "      <td>1177512</td>\n",
       "      <td>1</td>\n",
       "      <td>1</td>\n",
       "      <td>1</td>\n",
       "      <td>1</td>\n",
       "      <td>10</td>\n",
       "      <td>1</td>\n",
       "      <td>1</td>\n",
       "      <td>1</td>\n",
       "      <td>1</td>\n",
       "      <td>2</td>\n",
       "    </tr>\n",
       "    <tr>\n",
       "      <th>91</th>\n",
       "      <td>1158247</td>\n",
       "      <td>1</td>\n",
       "      <td>1</td>\n",
       "      <td>1</td>\n",
       "      <td>1</td>\n",
       "      <td>2</td>\n",
       "      <td>1</td>\n",
       "      <td>2</td>\n",
       "      <td>1</td>\n",
       "      <td>1</td>\n",
       "      <td>2</td>\n",
       "    </tr>\n",
       "  </tbody>\n",
       "</table>\n",
       "</div>"
      ],
      "text/plain": [
       "          id  clump thickness  uniformity cell size  uniformity cell shape  \\\n",
       "40   1100524                6                    10                     10   \n",
       "560   385103                5                     1                      2   \n",
       "177  1205138                5                     8                      8   \n",
       "127  1177512                1                     1                      1   \n",
       "91   1158247                1                     1                      1   \n",
       "\n",
       "     marginal adhesion  epithelial cell size  bare nuclei  bland chromatin  \\\n",
       "40                   2                     8           10                7   \n",
       "560                  1                     2            1                3   \n",
       "177                  8                     5           10                7   \n",
       "127                  1                    10            1                1   \n",
       "91                   1                     2            1                2   \n",
       "\n",
       "     normal nucleoli  mitoses  class  \n",
       "40                 3        3      4  \n",
       "560                1        1      2  \n",
       "177                8        1      4  \n",
       "127                1        1      2  \n",
       "91                 1        1      2  "
      ]
     },
     "execution_count": 2,
     "metadata": {},
     "output_type": "execute_result"
    }
   ],
   "source": [
    "# Load data\n",
    "df = pd.read_csv('./breast-cancer-wisconsin.data')\n",
    "df.sample(5)"
   ]
  },
  {
   "cell_type": "code",
   "execution_count": 3,
   "metadata": {
    "deletable": false,
    "editable": false
   },
   "outputs": [],
   "source": [
    "# Create features and labels\n",
    "\n",
    "y = df['class']\n",
    "X = df.drop('class', axis=1)\n",
    "\n",
    "# Split data into training and testing data sets\n",
    "X_train, X_test, y_train, y_test = train_test_split(X, y, test_size=0.3, random_state=0)"
   ]
  },
  {
   "cell_type": "markdown",
   "metadata": {
    "deletable": false,
    "editable": false
   },
   "source": [
    "-----\n",
    "\n",
    "## Problem 1: Create a Pipeline for Random Forest\n",
    "\n",
    "For this problem, you must complete the `rf_pipeline` function to create a new pipeline that contains random forest classifier. This classifier should be created by using the `n_estimators` and `rs` parameters.\n",
    "\n",
    "-----"
   ]
  },
  {
   "cell_type": "code",
   "execution_count": 4,
   "metadata": {
    "deletable": false,
    "nbgrader": {
     "checksum": "6b90d51ceb0eb77df52ca35a77a2b9f1",
     "grade": false,
     "grade_id": "p1_answer",
     "locked": false,
     "schema_version": 1,
     "solution": true
    }
   },
   "outputs": [],
   "source": [
    "from sklearn.ensemble import RandomForestClassifier\n",
    "from sklearn.pipeline import Pipeline\n",
    "\n",
    "def rf_pipeline(n_estimators, rs):\n",
    "    \"\"\"\"\n",
    "    Create a scikit learn pipeline that wraps a random forest classifier\n",
    "    \n",
    "    Inputs\n",
    "    ---------\n",
    "    n_estimators: the number of estimators used by the random forest\n",
    "    rs: the random state of the random forest, used for reproducibility\n",
    "    \n",
    "    Returns\n",
    "    -------\n",
    "    pipeline: an sklearn pipeline object\n",
    "    \"\"\"\n",
    "    \n",
    "    ### YOUR CODE HERE\n",
    "    \n",
    "        \n",
    "    pipeline = Pipeline([('rfc', RandomForestClassifier(n_estimators=n_estimators, random_state=rs))])\n",
    "    \n",
    "    return pipeline"
   ]
  },
  {
   "cell_type": "code",
   "execution_count": 5,
   "metadata": {
    "deletable": false,
    "editable": false,
    "nbgrader": {
     "checksum": "f0d2f69b933a5445d4a858464fad15bc",
     "grade": true,
     "grade_id": "p1_test",
     "locked": true,
     "points": 1,
     "schema_version": 1,
     "solution": false
    }
   },
   "outputs": [],
   "source": [
    "# Call function to create a pipeline\n",
    "pl = rf_pipeline(100, 2)\n",
    "\n",
    "# Test the new pipeline\n",
    "assert_equal(str(type(pl)), \"<class 'sklearn.pipeline.Pipeline'>\")\n",
    "assert_equal(pl.steps[0][1].n_estimators, 100)\n",
    "assert_equal(pl.steps[0][1].random_state, 2)"
   ]
  },
  {
   "cell_type": "code",
   "execution_count": 6,
   "metadata": {},
   "outputs": [
    {
     "data": {
      "text/plain": [
       "Pipeline(steps=[('rfc', RandomForestClassifier(random_state=2))])"
      ]
     },
     "execution_count": 6,
     "metadata": {},
     "output_type": "execute_result"
    }
   ],
   "source": [
    "pl"
   ]
  },
  {
   "cell_type": "markdown",
   "metadata": {
    "deletable": false,
    "editable": false,
    "nbgrader": {
     "checksum": "36e9e4a0e444bbf6cf169409f0bde1e0",
     "grade": false,
     "grade_id": "cell-3a9a1e07f4750700",
     "locked": true,
     "schema_version": 1,
     "solution": false
    }
   },
   "source": [
    "-----\n",
    "\n",
    "## Problem 2: Compute the Average Cross Validation Score\n",
    "\n",
    "For this problem, you will finish the `rf_avg_crossval` function to compute the average (or mean) cross validation score for a random forest classifier. To perform the cross-validation, you should use the `StratifiedKFold` object within the scikit learn library. Specifically, you must complete the following tasks:\n",
    "\n",
    "1. Create the `StratifiedKFold` object, using the `n_splits` and `rs` parameters.\n",
    "2. Create a random forest pipeline, by using your solution to problem one above, and including the `n_estimators` and `rs` parameters.\n",
    "3. Compute the cross-validation scores for this pipeline, the training data, and the `StratifiedKFold` object.\n",
    "4. Compute the average cross validation score\n",
    "\n",
    "-----"
   ]
  },
  {
   "cell_type": "code",
   "execution_count": 7,
   "metadata": {},
   "outputs": [],
   "source": [
    "from sklearn.model_selection import StratifiedKFold, cross_val_score"
   ]
  },
  {
   "cell_type": "code",
   "execution_count": 8,
   "metadata": {},
   "outputs": [],
   "source": [
    "skf = StratifiedKFold(n_splits=5, random_state=2, shuffle=True)"
   ]
  },
  {
   "cell_type": "code",
   "execution_count": 9,
   "metadata": {},
   "outputs": [],
   "source": [
    "rfc = RandomForestClassifier(n_estimators=10, random_state=2)"
   ]
  },
  {
   "cell_type": "code",
   "execution_count": 10,
   "metadata": {},
   "outputs": [],
   "source": [
    "cv_score = cross_val_score(estimator=rfc, X=X_train, y=y_train, cv=skf)"
   ]
  },
  {
   "cell_type": "code",
   "execution_count": 11,
   "metadata": {},
   "outputs": [
    {
     "data": {
      "text/plain": [
       "0.9707675438596493"
      ]
     },
     "execution_count": 11,
     "metadata": {},
     "output_type": "execute_result"
    }
   ],
   "source": [
    "cv_score.mean()"
   ]
  },
  {
   "cell_type": "code",
   "execution_count": 12,
   "metadata": {
    "deletable": false,
    "nbgrader": {
     "checksum": "37958cf3432e411b560179a4c47ee6fd",
     "grade": false,
     "grade_id": "p2_answer",
     "locked": false,
     "schema_version": 1,
     "solution": true
    }
   },
   "outputs": [],
   "source": [
    "from sklearn.model_selection import StratifiedKFold, cross_val_score\n",
    "\n",
    "def rf_avg_crossval(rfp, X_train, y_train, \n",
    "                    n_estimators, n_splits, rs):\n",
    "    \"\"\"\"\n",
    "    Inputs\n",
    "    ---------\n",
    "    rfp: The rf_pipeline function you created in Problem 1\n",
    "    X_train: the training data\n",
    "    y_train: the training data labels\n",
    "    n_estimators: the number of estimators used by the random forest\n",
    "    rs: the random state of the random forest and of the cross validation,\n",
    "        used for reproducibility\n",
    "    \n",
    "    Returns\n",
    "    -------\n",
    "    mean_score: the average cross validation score of the random forest \n",
    "    \"\"\"\n",
    "    \n",
    "    ### YOUR CODE HERE\n",
    "    \n",
    "    skf = StratifiedKFold(n_splits=n_splits, random_state=rs, shuffle=True)\n",
    "\n",
    "    #skf.get_n_splits(X_train, y_train)\n",
    "    \n",
    "    rfc = RandomForestClassifier(n_estimators=n_estimators, random_state=rs)\n",
    "    \n",
    "    cv_score = cross_val_score(estimator=rfc, X=X_train, y=y_train, cv=skf)\n",
    "    \n",
    "    print(cv_score)\n",
    "    \n",
    "    mean_score = cv_score.mean()\n",
    "    \n",
    "    return mean_score"
   ]
  },
  {
   "cell_type": "code",
   "execution_count": 13,
   "metadata": {
    "deletable": false,
    "nbgrader": {
     "checksum": "933b2afb6100d43361e4d6846d03b27d",
     "grade": true,
     "grade_id": "p2_test",
     "locked": false,
     "points": 1,
     "schema_version": 1,
     "solution": false
    }
   },
   "outputs": [
    {
     "name": "stdout",
     "output_type": "stream",
     "text": [
      "[0.92708333 0.96875    0.98958333 0.97894737 0.98947368]\n"
     ]
    }
   ],
   "source": [
    "# Compute mean scores\n",
    "mean_score = rf_avg_crossval(rf_pipeline, X_train, y_train, 10, 5, 2)\n",
    "\n",
    "# Test mean scores\n",
    "assert_almost_equal(mean_score, 0.970767, places=4)"
   ]
  },
  {
   "cell_type": "markdown",
   "metadata": {
    "deletable": false,
    "editable": false
   },
   "source": [
    "-----\n",
    "\n",
    "## Problem 3: Random Grid Search\n",
    "\n",
    "For this problem, you will finish writing the `random_crossval` function, shown below, to complete the following tasks:\n",
    "\n",
    "1. Create a dictionary to map the `'rf__n_estimators'` key to the `n_estimators_array` value.\n",
    "1. Create a randomized search cross-validation estimator by using the scikit learn library. Be sure to pass or assign the following parameters when creating this estimator:\n",
    "  - `pl` random forest pipeline.\n",
    "  - The dictionary created in step one above assigned to the `param_distributions` parameter.\n",
    "  - `n_samples` parameter assigned to the `n_iter` parameter.\n",
    "  - `rs` assigned to the `random_state` parameter.\n",
    "\n",
    "1. Fit this estimator to the training data.\n",
    "1. Extract the best values from the randomized grid search as a dictionary.\n",
    "1. Return the dictionary containing the best parameters.\n",
    "\n",
    "-----"
   ]
  },
  {
   "cell_type": "code",
   "execution_count": 14,
   "metadata": {
    "deletable": false,
    "nbgrader": {
     "checksum": "f0164e143ca26cc89149b657506f7b34",
     "grade": false,
     "grade_id": "p3_answer",
     "locked": false,
     "schema_version": 1,
     "solution": true
    }
   },
   "outputs": [],
   "source": [
    "from sklearn.model_selection import RandomizedSearchCV\n",
    "\n",
    "def random_crossval(pl, X_train, y_train, n_estimators_array, n_samples, rs):\n",
    "    \"\"\"\"\n",
    "    Uses a randomized grid search to determine the best parameters of a \n",
    "    specific the specified pipeline on a given test data set.\n",
    "    \n",
    "    Inputs\n",
    "    ---------\n",
    "    pl: random forest pipeline\n",
    "    X_train: the training data\n",
    "    y_train: the trainig data lavels\n",
    "    n_estimators_array: a numpy array containing possible values for n_estimators\n",
    "    n_samples: the number of times the random cv will sample from n_estimators_array\n",
    "    rs: the random state of the random forest and of the cross validation,\n",
    "        used for reproducibility\n",
    "    \n",
    "    Returns\n",
    "    -------\n",
    "    best_params: a list of the best parameters from the randomized cross validation\n",
    "    \"\"\"\n",
    "    \n",
    "    ### YOUR CODE HERE\n",
    "    \n",
    "    params = {'rfc__n_estimators': n_estimators_array}\n",
    "    \n",
    "    rcv = RandomizedSearchCV(estimator=pl, param_distributions=params, n_iter=n_samples, random_state=rs)\n",
    "    \n",
    "    rcv.fit(X_train, y_train)\n",
    "    \n",
    "    best_params = rcv.best_params_\n",
    "    \n",
    "    return best_params"
   ]
  },
  {
   "cell_type": "code",
   "execution_count": 15,
   "metadata": {},
   "outputs": [],
   "source": [
    "params_list = random_crossval(pl, X_train, y_train, np.arange(1,100,1), 10, 2)\n"
   ]
  },
  {
   "cell_type": "code",
   "execution_count": 16,
   "metadata": {},
   "outputs": [
    {
     "data": {
      "text/plain": [
       "31"
      ]
     },
     "execution_count": 16,
     "metadata": {},
     "output_type": "execute_result"
    }
   ],
   "source": [
    "params_list['rfc__n_estimators']"
   ]
  },
  {
   "cell_type": "code",
   "execution_count": 17,
   "metadata": {
    "deletable": false,
    "nbgrader": {
     "checksum": "beb41ab9b4f45318a08cf4e49e230b44",
     "grade": true,
     "grade_id": "p3_test",
     "locked": false,
     "points": 1,
     "schema_version": 1,
     "solution": false
    }
   },
   "outputs": [],
   "source": [
    "# Perform Grid Search to get best parameters\n",
    "params_list = random_crossval(pl, X_train, y_train, \n",
    "                              np.arange(1,100,1), 10, 2)\n",
    "\n",
    "# Test grid search results\n",
    "assert_equal(params_list[\"rfc__n_estimators\"], 31) # Error here"
   ]
  },
  {
   "cell_type": "markdown",
   "metadata": {
    "deletable": false,
    "editable": false
   },
   "source": [
    "-----\n",
    "\n",
    "## Loading Car Price Data\n",
    "\n",
    "For the rest of this assignment, we will work with a car price data set to make regressive models between car specifications and car price. Before we build a model, we first load the data into the assignment notebook, and randomly sample several rows. The second Code cell selects only numeric columns to simplify the analysis, and displays the first few instances.\n",
    "\n",
    "-----"
   ]
  },
  {
   "cell_type": "code",
   "execution_count": 18,
   "metadata": {
    "deletable": false,
    "editable": false
   },
   "outputs": [
    {
     "data": {
      "text/html": [
       "<div>\n",
       "<style scoped>\n",
       "    .dataframe tbody tr th:only-of-type {\n",
       "        vertical-align: middle;\n",
       "    }\n",
       "\n",
       "    .dataframe tbody tr th {\n",
       "        vertical-align: top;\n",
       "    }\n",
       "\n",
       "    .dataframe thead th {\n",
       "        text-align: right;\n",
       "    }\n",
       "</style>\n",
       "<table border=\"1\" class=\"dataframe\">\n",
       "  <thead>\n",
       "    <tr style=\"text-align: right;\">\n",
       "      <th></th>\n",
       "      <th>symboling</th>\n",
       "      <th>normalized-losses</th>\n",
       "      <th>make</th>\n",
       "      <th>fuel-type</th>\n",
       "      <th>aspiration</th>\n",
       "      <th>num-of-doors</th>\n",
       "      <th>body-style</th>\n",
       "      <th>drive-wheels</th>\n",
       "      <th>'engine-location'</th>\n",
       "      <th>wheel-base</th>\n",
       "      <th>...</th>\n",
       "      <th>engine-size</th>\n",
       "      <th>fuel-system</th>\n",
       "      <th>bore</th>\n",
       "      <th>stroke</th>\n",
       "      <th>compression-ratio'</th>\n",
       "      <th>horsepower</th>\n",
       "      <th>peak-rpm</th>\n",
       "      <th>city-mpg</th>\n",
       "      <th>highway</th>\n",
       "      <th>price</th>\n",
       "    </tr>\n",
       "  </thead>\n",
       "  <tbody>\n",
       "    <tr>\n",
       "      <th>3</th>\n",
       "      <td>2</td>\n",
       "      <td>164</td>\n",
       "      <td>1</td>\n",
       "      <td>1</td>\n",
       "      <td>std</td>\n",
       "      <td>4.0</td>\n",
       "      <td>2</td>\n",
       "      <td>fwd</td>\n",
       "      <td>front</td>\n",
       "      <td>99.8</td>\n",
       "      <td>...</td>\n",
       "      <td>109</td>\n",
       "      <td>mpfi</td>\n",
       "      <td>3.19</td>\n",
       "      <td>3.40</td>\n",
       "      <td>10.0</td>\n",
       "      <td>102</td>\n",
       "      <td>5500</td>\n",
       "      <td>24</td>\n",
       "      <td>30</td>\n",
       "      <td>13950.0</td>\n",
       "    </tr>\n",
       "    <tr>\n",
       "      <th>154</th>\n",
       "      <td>0</td>\n",
       "      <td>81</td>\n",
       "      <td>19</td>\n",
       "      <td>1</td>\n",
       "      <td>std</td>\n",
       "      <td>4.0</td>\n",
       "      <td>1</td>\n",
       "      <td>4wd</td>\n",
       "      <td>front</td>\n",
       "      <td>95.7</td>\n",
       "      <td>...</td>\n",
       "      <td>92</td>\n",
       "      <td>2bbl</td>\n",
       "      <td>3.05</td>\n",
       "      <td>3.03</td>\n",
       "      <td>9.0</td>\n",
       "      <td>62</td>\n",
       "      <td>4800</td>\n",
       "      <td>27</td>\n",
       "      <td>32</td>\n",
       "      <td>7898.0</td>\n",
       "    </tr>\n",
       "    <tr>\n",
       "      <th>148</th>\n",
       "      <td>0</td>\n",
       "      <td>85</td>\n",
       "      <td>18</td>\n",
       "      <td>1</td>\n",
       "      <td>std</td>\n",
       "      <td>4.0</td>\n",
       "      <td>1</td>\n",
       "      <td>4wd</td>\n",
       "      <td>front</td>\n",
       "      <td>96.9</td>\n",
       "      <td>...</td>\n",
       "      <td>108</td>\n",
       "      <td>2bbl</td>\n",
       "      <td>3.62</td>\n",
       "      <td>2.64</td>\n",
       "      <td>9.0</td>\n",
       "      <td>82</td>\n",
       "      <td>4800</td>\n",
       "      <td>23</td>\n",
       "      <td>29</td>\n",
       "      <td>8013.0</td>\n",
       "    </tr>\n",
       "    <tr>\n",
       "      <th>160</th>\n",
       "      <td>0</td>\n",
       "      <td>91</td>\n",
       "      <td>19</td>\n",
       "      <td>1</td>\n",
       "      <td>std</td>\n",
       "      <td>4.0</td>\n",
       "      <td>2</td>\n",
       "      <td>fwd</td>\n",
       "      <td>front</td>\n",
       "      <td>95.7</td>\n",
       "      <td>...</td>\n",
       "      <td>98</td>\n",
       "      <td>2bbl</td>\n",
       "      <td>3.19</td>\n",
       "      <td>3.03</td>\n",
       "      <td>9.0</td>\n",
       "      <td>70</td>\n",
       "      <td>4800</td>\n",
       "      <td>38</td>\n",
       "      <td>47</td>\n",
       "      <td>7738.0</td>\n",
       "    </tr>\n",
       "    <tr>\n",
       "      <th>193</th>\n",
       "      <td>0</td>\n",
       "      <td>122</td>\n",
       "      <td>20</td>\n",
       "      <td>1</td>\n",
       "      <td>std</td>\n",
       "      <td>4.0</td>\n",
       "      <td>1</td>\n",
       "      <td>fwd</td>\n",
       "      <td>front</td>\n",
       "      <td>100.4</td>\n",
       "      <td>...</td>\n",
       "      <td>109</td>\n",
       "      <td>mpfi</td>\n",
       "      <td>3.19</td>\n",
       "      <td>3.40</td>\n",
       "      <td>9.0</td>\n",
       "      <td>88</td>\n",
       "      <td>5500</td>\n",
       "      <td>25</td>\n",
       "      <td>31</td>\n",
       "      <td>12290.0</td>\n",
       "    </tr>\n",
       "  </tbody>\n",
       "</table>\n",
       "<p>5 rows × 26 columns</p>\n",
       "</div>"
      ],
      "text/plain": [
       "     symboling  normalized-losses  make  fuel-type aspiration  num-of-doors  \\\n",
       "3            2                164     1          1        std           4.0   \n",
       "154          0                 81    19          1        std           4.0   \n",
       "148          0                 85    18          1        std           4.0   \n",
       "160          0                 91    19          1        std           4.0   \n",
       "193          0                122    20          1        std           4.0   \n",
       "\n",
       "     body-style drive-wheels 'engine-location'  wheel-base  ...  engine-size  \\\n",
       "3             2          fwd             front        99.8  ...          109   \n",
       "154           1          4wd             front        95.7  ...           92   \n",
       "148           1          4wd             front        96.9  ...          108   \n",
       "160           2          fwd             front        95.7  ...           98   \n",
       "193           1          fwd             front       100.4  ...          109   \n",
       "\n",
       "     fuel-system  bore  stroke compression-ratio' horsepower  peak-rpm  \\\n",
       "3           mpfi  3.19    3.40               10.0        102      5500   \n",
       "154         2bbl  3.05    3.03                9.0         62      4800   \n",
       "148         2bbl  3.62    2.64                9.0         82      4800   \n",
       "160         2bbl  3.19    3.03                9.0         70      4800   \n",
       "193         mpfi  3.19    3.40                9.0         88      5500   \n",
       "\n",
       "    city-mpg highway    price  \n",
       "3         24      30  13950.0  \n",
       "154       27      32   7898.0  \n",
       "148       23      29   8013.0  \n",
       "160       38      47   7738.0  \n",
       "193       25      31  12290.0  \n",
       "\n",
       "[5 rows x 26 columns]"
      ]
     },
     "execution_count": 18,
     "metadata": {},
     "output_type": "execute_result"
    }
   ],
   "source": [
    "df = pd.read_csv('./imports-85.data')\n",
    "df.sample(5)"
   ]
  },
  {
   "cell_type": "code",
   "execution_count": 19,
   "metadata": {
    "deletable": false,
    "editable": false
   },
   "outputs": [
    {
     "data": {
      "text/html": [
       "<div>\n",
       "<style scoped>\n",
       "    .dataframe tbody tr th:only-of-type {\n",
       "        vertical-align: middle;\n",
       "    }\n",
       "\n",
       "    .dataframe tbody tr th {\n",
       "        vertical-align: top;\n",
       "    }\n",
       "\n",
       "    .dataframe thead th {\n",
       "        text-align: right;\n",
       "    }\n",
       "</style>\n",
       "<table border=\"1\" class=\"dataframe\">\n",
       "  <thead>\n",
       "    <tr style=\"text-align: right;\">\n",
       "      <th></th>\n",
       "      <th>symboling</th>\n",
       "      <th>normalized-losses</th>\n",
       "      <th>make</th>\n",
       "      <th>fuel-type</th>\n",
       "      <th>num-of-doors</th>\n",
       "      <th>body-style</th>\n",
       "      <th>wheel-base</th>\n",
       "      <th>length</th>\n",
       "      <th>width</th>\n",
       "      <th>height</th>\n",
       "      <th>curb-weight</th>\n",
       "      <th>engine-size</th>\n",
       "      <th>compression-ratio'</th>\n",
       "      <th>city-mpg</th>\n",
       "      <th>highway</th>\n",
       "      <th>price</th>\n",
       "    </tr>\n",
       "  </thead>\n",
       "  <tbody>\n",
       "    <tr>\n",
       "      <th>0</th>\n",
       "      <td>3</td>\n",
       "      <td>122</td>\n",
       "      <td>0</td>\n",
       "      <td>1</td>\n",
       "      <td>2.0</td>\n",
       "      <td>4</td>\n",
       "      <td>88.6</td>\n",
       "      <td>168.8</td>\n",
       "      <td>64.1</td>\n",
       "      <td>48.8</td>\n",
       "      <td>2548</td>\n",
       "      <td>130</td>\n",
       "      <td>9.0</td>\n",
       "      <td>21</td>\n",
       "      <td>27</td>\n",
       "      <td>13495.0</td>\n",
       "    </tr>\n",
       "    <tr>\n",
       "      <th>1</th>\n",
       "      <td>3</td>\n",
       "      <td>122</td>\n",
       "      <td>0</td>\n",
       "      <td>1</td>\n",
       "      <td>2.0</td>\n",
       "      <td>4</td>\n",
       "      <td>88.6</td>\n",
       "      <td>168.8</td>\n",
       "      <td>64.1</td>\n",
       "      <td>48.8</td>\n",
       "      <td>2548</td>\n",
       "      <td>130</td>\n",
       "      <td>9.0</td>\n",
       "      <td>21</td>\n",
       "      <td>27</td>\n",
       "      <td>16500.0</td>\n",
       "    </tr>\n",
       "    <tr>\n",
       "      <th>2</th>\n",
       "      <td>1</td>\n",
       "      <td>122</td>\n",
       "      <td>0</td>\n",
       "      <td>1</td>\n",
       "      <td>2.0</td>\n",
       "      <td>3</td>\n",
       "      <td>94.5</td>\n",
       "      <td>171.2</td>\n",
       "      <td>65.5</td>\n",
       "      <td>52.4</td>\n",
       "      <td>2823</td>\n",
       "      <td>152</td>\n",
       "      <td>9.0</td>\n",
       "      <td>19</td>\n",
       "      <td>26</td>\n",
       "      <td>16500.0</td>\n",
       "    </tr>\n",
       "    <tr>\n",
       "      <th>3</th>\n",
       "      <td>2</td>\n",
       "      <td>164</td>\n",
       "      <td>1</td>\n",
       "      <td>1</td>\n",
       "      <td>4.0</td>\n",
       "      <td>2</td>\n",
       "      <td>99.8</td>\n",
       "      <td>176.6</td>\n",
       "      <td>66.2</td>\n",
       "      <td>54.3</td>\n",
       "      <td>2337</td>\n",
       "      <td>109</td>\n",
       "      <td>10.0</td>\n",
       "      <td>24</td>\n",
       "      <td>30</td>\n",
       "      <td>13950.0</td>\n",
       "    </tr>\n",
       "    <tr>\n",
       "      <th>4</th>\n",
       "      <td>2</td>\n",
       "      <td>164</td>\n",
       "      <td>1</td>\n",
       "      <td>1</td>\n",
       "      <td>4.0</td>\n",
       "      <td>2</td>\n",
       "      <td>99.4</td>\n",
       "      <td>176.6</td>\n",
       "      <td>66.4</td>\n",
       "      <td>54.3</td>\n",
       "      <td>2824</td>\n",
       "      <td>136</td>\n",
       "      <td>8.0</td>\n",
       "      <td>18</td>\n",
       "      <td>22</td>\n",
       "      <td>17450.0</td>\n",
       "    </tr>\n",
       "  </tbody>\n",
       "</table>\n",
       "</div>"
      ],
      "text/plain": [
       "   symboling  normalized-losses  make  fuel-type  num-of-doors  body-style  \\\n",
       "0          3                122     0          1           2.0           4   \n",
       "1          3                122     0          1           2.0           4   \n",
       "2          1                122     0          1           2.0           3   \n",
       "3          2                164     1          1           4.0           2   \n",
       "4          2                164     1          1           4.0           2   \n",
       "\n",
       "   wheel-base  length  width  height  curb-weight  engine-size  \\\n",
       "0        88.6   168.8   64.1    48.8         2548          130   \n",
       "1        88.6   168.8   64.1    48.8         2548          130   \n",
       "2        94.5   171.2   65.5    52.4         2823          152   \n",
       "3        99.8   176.6   66.2    54.3         2337          109   \n",
       "4        99.4   176.6   66.4    54.3         2824          136   \n",
       "\n",
       "   compression-ratio'  city-mpg  highway    price  \n",
       "0                 9.0        21       27  13495.0  \n",
       "1                 9.0        21       27  16500.0  \n",
       "2                 9.0        19       26  16500.0  \n",
       "3                10.0        24       30  13950.0  \n",
       "4                 8.0        18       22  17450.0  "
      ]
     },
     "execution_count": 19,
     "metadata": {},
     "output_type": "execute_result"
    }
   ],
   "source": [
    "df_simple = df[df.columns[df.dtypes!=object]]\n",
    "df_simple.head()"
   ]
  },
  {
   "cell_type": "code",
   "execution_count": 20,
   "metadata": {},
   "outputs": [
    {
     "data": {
      "text/plain": [
       "symboling             0\n",
       "normalized-losses     0\n",
       "make                  0\n",
       "fuel-type             0\n",
       "num-of-doors          0\n",
       "body-style            0\n",
       "wheel-base            0\n",
       "length                0\n",
       "width                 0\n",
       "height                0\n",
       "curb-weight           0\n",
       "engine-size           0\n",
       "compression-ratio'    0\n",
       "city-mpg              0\n",
       "highway               0\n",
       "price                 0\n",
       "dtype: int64"
      ]
     },
     "execution_count": 20,
     "metadata": {},
     "output_type": "execute_result"
    }
   ],
   "source": [
    "df_simple.isnull().sum()"
   ]
  },
  {
   "cell_type": "markdown",
   "metadata": {
    "deletable": false,
    "editable": false
   },
   "source": [
    "-----\n",
    "\n",
    "With the numeric data, we can now create our independent and dependent variables so that we can \n",
    "build a model that can predict the price of the car. After this is done, we split these data into a training and testing set.\n",
    "\n",
    "-----"
   ]
  },
  {
   "cell_type": "code",
   "execution_count": 21,
   "metadata": {
    "deletable": false,
    "editable": false
   },
   "outputs": [],
   "source": [
    "X = df_simple.drop(\"price\", axis=1)\n",
    "y = np.ravel(df_simple[\"price\"])\n",
    "X_train, X_test, y_train, y_test = train_test_split(X, y, test_size=0.3, random_state=0)"
   ]
  },
  {
   "cell_type": "markdown",
   "metadata": {
    "deletable": false,
    "editable": false
   },
   "source": [
    "-----\n",
    "\n",
    "## Problem 4:  Ridge Regression\n",
    "\n",
    "For this problem, you must finish writing the `ridge_r` function by completing the following tasks:\n",
    "1. Create a [`Ridge Regression`](http://scikit-learn.org/stable/modules/generated/sklearn.linear_model.Ridge.html) model by using the scikit learn library. Be sure to\n",
    "  - Set the `alpha` hyperparameter for the `RidgeRegression` model to the `alpha` function parameter.\n",
    "  - Set the `random_state` parameter for the `RidgeRegression` model to the `rs` function parameter.\n",
    "  \n",
    "1. Fit the `RidgeRegression` model by using the training features and labels.\n",
    "1. Compute the $R^2$ coefficient using the testing features and labels.\n",
    "1. Return the $R^2$ coefficient.\n",
    "\n",
    "-----"
   ]
  },
  {
   "cell_type": "code",
   "execution_count": 22,
   "metadata": {
    "deletable": false,
    "nbgrader": {
     "checksum": "f25618fd1ade432743e7552f52a680da",
     "grade": false,
     "grade_id": "p4_answer",
     "locked": false,
     "schema_version": 1,
     "solution": true
    }
   },
   "outputs": [],
   "source": [
    "from sklearn.linear_model import Ridge\n",
    "\n",
    "def ridge_r(X_train, y_train, X_test, y_test, alpha=1, rs=0):\n",
    "    \"\"\"\"\n",
    "    Fit a ridge regression model to the training data and \n",
    "    compute and return the R2 score for the test data.\n",
    "    \n",
    "    Inputs\n",
    "    ---------\n",
    "    X_train: Pandas DataFrame containing features for training dataset\n",
    "    y_train: Pandas DataFrame containing labels for training dataset\n",
    "    X_test: Pandas DataFrame containing features for testing dataset\n",
    "    y_test: Pandas DataFrame containing labels for testing dataset\n",
    "    alpha: a regularization parameter\n",
    "    rs: random state for random number generator\n",
    "    \n",
    "    Returns\n",
    "    -------\n",
    "    score: the coefficient of determination as a floating point value\n",
    "    \"\"\"\n",
    "    \n",
    "    ### YOUR CODE HERE\n",
    "    \n",
    "    rs = Ridge(alpha=alpha, random_state=rs)\n",
    "    \n",
    "    rs.fit(X_train, y_train)\n",
    "    \n",
    "    score = rs.score(X_test, y_test)\n",
    "    \n",
    "    return score"
   ]
  },
  {
   "cell_type": "code",
   "execution_count": 23,
   "metadata": {
    "deletable": false,
    "nbgrader": {
     "checksum": "8f0bc684b108a92c803434a608194608",
     "grade": true,
     "grade_id": "p4_test",
     "locked": false,
     "points": 1,
     "schema_version": 1,
     "solution": false
    }
   },
   "outputs": [],
   "source": [
    "import helpera4\n",
    "\n",
    "# Compute scores as a function of alpha\n",
    "alphas = np.arange(0.1, 250, 1)\n",
    "scores = []\n",
    "for alpha in alphas:\n",
    "    score = ridge_r(X_train, y_train, X_test, y_test, alpha=alpha)\n",
    "    scores.append(score)\n",
    "\n",
    "# Compare scores to precomputed values\n",
    "for ans, sol in zip(scores, helpera4.rr_sol):\n",
    "    assert_almost_equal(ans, sol, places=2)"
   ]
  },
  {
   "cell_type": "markdown",
   "metadata": {
    "deletable": false,
    "editable": false
   },
   "source": [
    "-----\n",
    "\n",
    "If you plot your ridge regression scores against alpha they should look similar to this plot: \n",
    "\n",
    "![ridgeR2.png](ridgeR2.png)\n",
    "\n",
    "Notice how the r2 score increases as alpha increases. \n",
    "\n",
    "*If you are failing the previous assert statement, try running the cell below to help you debug the `ridge_r` function.*\n",
    "\n",
    "-----"
   ]
  },
  {
   "cell_type": "code",
   "execution_count": 24,
   "metadata": {
    "deletable": false,
    "editable": false
   },
   "outputs": [
    {
     "data": {
      "image/png": "[encoded data removed]",
      "text/plain": [
       "<Figure size 432x288 with 1 Axes>"
      ]
     },
     "metadata": {},
     "output_type": "display_data"
    }
   ],
   "source": [
    "# Plot the score as a function of alpha\n",
    "sns.set()\n",
    "fig, ax = plt.subplots()\n",
    "ax.plot(alphas, scores)\n",
    "ax.set(title='Ridge Regression Score',\n",
    "       xlabel='Alpha',\n",
    "       ylabel='Score')\n",
    "\n",
    "sns.despine()"
   ]
  },
  {
   "cell_type": "markdown",
   "metadata": {
    "deletable": false,
    "editable": false
   },
   "source": [
    "**&copy; 2017: Robert J. Brunner at the University of Illinois.**\n",
    "\n",
    "This notebook is released under the [Creative Commons license CC BY-NC-SA 4.0][ll]. Any reproduction, adaptation, distribution, dissemination or making available of this notebook for commercial use is not allowed unless authorized in writing by the copyright holder.\n",
    "\n",
    "[ll]: https://creativecommons.org/licenses/by-nc-sa/4.0/legalcode "
   ]
  }
 ],
 "metadata": {
  "celltoolbar": "Edit Metadata",
  "coursera": {
   "course_slug": "data-analytics-accountancy-2",
   "graded_item_id": "ZfO6D",
   "launcher_item_id": "m4_assignment"
  },
  "kernelspec": {
   "display_name": "Python 3 (ipykernel)",
   "language": "python",
   "name": "python3"
  },
  "language_info": {
   "codemirror_mode": {
    "name": "ipython",
    "version": 3
   },
   "file_extension": ".py",
   "mimetype": "text/x-python",
   "name": "python",
   "nbconvert_exporter": "python",
   "pygments_lexer": "ipython3",
   "version": "3.9.12"
  }
 },
 "nbformat": 4,
 "nbformat_minor": 2
}
