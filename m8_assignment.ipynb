{
 "cells": [
  {
   "cell_type": "markdown",
   "metadata": {
    "deletable": false,
    "editable": false
   },
   "source": [
    "# Module 8 Assignment\n",
    "\n",
    "A few things you should keep in mind when working on assignments:\n",
    "\n",
    "1. Make sure you fill in any place that says `# YOUR CODE HERE`. Do not write your answer anywhere else other than where it says `# YOUR CODE HERE`. Anything you write elsewhere will be removed or overwritten by the autograder.\n",
    "2. Before you submit your assignment, make sure everything runs as expected. Go to the menubar, select Kernel, and restart the kernel and run all cells (Restart & Run all).\n",
    "3. Do not change the title (i.e. file name) of this notebook.\n",
    "4. Make sure that you save your work (in the menubar, select File → Save and CheckPoint).\n",
    "5. All work must be your own, if you do use any code from another source (such as a course notebook or a website) you need to properly cite the source.\n",
    "\n",
    "-----"
   ]
  },
  {
   "cell_type": "code",
   "execution_count": 1,
   "metadata": {
    "deletable": false
   },
   "outputs": [],
   "source": [
    "%matplotlib inline\n",
    "\n",
    "# Standard imports\n",
    "import numpy as np\n",
    "import pandas as pd\n",
    "import matplotlib.pyplot as plt\n",
    "import matplotlib as mpl\n",
    "import seaborn as sns\n",
    "\n",
    "from sklearn.model_selection import train_test_split\n",
    "\n",
    "from sklearn.cluster import DBSCAN\n",
    "\n",
    "from collections import Counter\n",
    "\n",
    "from nose.tools import assert_is_instance, assert_equal, assert_almost_equal, assert_is_not\n",
    "\n",
    "# We do this to ignore several specific Pandas warnings\n",
    "import warnings\n",
    "warnings.filterwarnings(\"ignore\")\n",
    "\n",
    "sns.set(style=\"white\")"
   ]
  },
  {
   "cell_type": "markdown",
   "metadata": {
    "deletable": false,
    "editable": false
   },
   "source": [
    "-----\n",
    "\n",
    "## Loading Breast Cancer Data\n",
    "\n",
    "In this assignment, we will work with a breast cancer data set to make predictive models. Before we build a model, we first load the data into the assignment notebook, and randomly sample several rows. The second Code cell splits the DataFrame into a training and testing data set, respectively, before creating the features and labels to use for our classification task.\n",
    "\n",
    "-----"
   ]
  },
  {
   "cell_type": "code",
   "execution_count": 2,
   "metadata": {
    "deletable": false,
    "editable": false
   },
   "outputs": [
    {
     "data": {
      "text/html": [
       "<div>\n",
       "<style scoped>\n",
       "    .dataframe tbody tr th:only-of-type {\n",
       "        vertical-align: middle;\n",
       "    }\n",
       "\n",
       "    .dataframe tbody tr th {\n",
       "        vertical-align: top;\n",
       "    }\n",
       "\n",
       "    .dataframe thead th {\n",
       "        text-align: right;\n",
       "    }\n",
       "</style>\n",
       "<table border=\"1\" class=\"dataframe\">\n",
       "  <thead>\n",
       "    <tr style=\"text-align: right;\">\n",
       "      <th></th>\n",
       "      <th>id</th>\n",
       "      <th>clump thickness</th>\n",
       "      <th>uniformity cell size</th>\n",
       "      <th>uniformity cell shape</th>\n",
       "      <th>marginal adhesion</th>\n",
       "      <th>epithelial cell size</th>\n",
       "      <th>bare nuclei</th>\n",
       "      <th>bland chromatin</th>\n",
       "      <th>normal nucleoli</th>\n",
       "      <th>mitoses</th>\n",
       "      <th>class</th>\n",
       "    </tr>\n",
       "  </thead>\n",
       "  <tbody>\n",
       "    <tr>\n",
       "      <th>482</th>\n",
       "      <td>1182404</td>\n",
       "      <td>4</td>\n",
       "      <td>2</td>\n",
       "      <td>1</td>\n",
       "      <td>1</td>\n",
       "      <td>2</td>\n",
       "      <td>1</td>\n",
       "      <td>1</td>\n",
       "      <td>1</td>\n",
       "      <td>1</td>\n",
       "      <td>2</td>\n",
       "    </tr>\n",
       "    <tr>\n",
       "      <th>144</th>\n",
       "      <td>1187457</td>\n",
       "      <td>3</td>\n",
       "      <td>1</td>\n",
       "      <td>1</td>\n",
       "      <td>3</td>\n",
       "      <td>8</td>\n",
       "      <td>1</td>\n",
       "      <td>5</td>\n",
       "      <td>8</td>\n",
       "      <td>1</td>\n",
       "      <td>2</td>\n",
       "    </tr>\n",
       "    <tr>\n",
       "      <th>680</th>\n",
       "      <td>888820</td>\n",
       "      <td>5</td>\n",
       "      <td>10</td>\n",
       "      <td>10</td>\n",
       "      <td>3</td>\n",
       "      <td>7</td>\n",
       "      <td>3</td>\n",
       "      <td>8</td>\n",
       "      <td>10</td>\n",
       "      <td>2</td>\n",
       "      <td>4</td>\n",
       "    </tr>\n",
       "    <tr>\n",
       "      <th>573</th>\n",
       "      <td>1268275</td>\n",
       "      <td>9</td>\n",
       "      <td>8</td>\n",
       "      <td>8</td>\n",
       "      <td>9</td>\n",
       "      <td>6</td>\n",
       "      <td>3</td>\n",
       "      <td>4</td>\n",
       "      <td>1</td>\n",
       "      <td>1</td>\n",
       "      <td>4</td>\n",
       "    </tr>\n",
       "    <tr>\n",
       "      <th>127</th>\n",
       "      <td>1177512</td>\n",
       "      <td>1</td>\n",
       "      <td>1</td>\n",
       "      <td>1</td>\n",
       "      <td>1</td>\n",
       "      <td>10</td>\n",
       "      <td>1</td>\n",
       "      <td>1</td>\n",
       "      <td>1</td>\n",
       "      <td>1</td>\n",
       "      <td>2</td>\n",
       "    </tr>\n",
       "  </tbody>\n",
       "</table>\n",
       "</div>"
      ],
      "text/plain": [
       "          id  clump thickness  uniformity cell size  uniformity cell shape  \\\n",
       "482  1182404                4                     2                      1   \n",
       "144  1187457                3                     1                      1   \n",
       "680   888820                5                    10                     10   \n",
       "573  1268275                9                     8                      8   \n",
       "127  1177512                1                     1                      1   \n",
       "\n",
       "     marginal adhesion  epithelial cell size  bare nuclei  bland chromatin  \\\n",
       "482                  1                     2            1                1   \n",
       "144                  3                     8            1                5   \n",
       "680                  3                     7            3                8   \n",
       "573                  9                     6            3                4   \n",
       "127                  1                    10            1                1   \n",
       "\n",
       "     normal nucleoli  mitoses  class  \n",
       "482                1        1      2  \n",
       "144                8        1      2  \n",
       "680               10        2      4  \n",
       "573                1        1      4  \n",
       "127                1        1      2  "
      ]
     },
     "execution_count": 2,
     "metadata": {},
     "output_type": "execute_result"
    }
   ],
   "source": [
    "#Load data\n",
    "df = pd.read_csv('breast-cancer-wisconsin.data')\n",
    "df.sample(5)"
   ]
  },
  {
   "cell_type": "code",
   "execution_count": 3,
   "metadata": {
    "deletable": false,
    "editable": false
   },
   "outputs": [],
   "source": [
    "# Create features and labels\n",
    "y = df['class']\n",
    "X = df.drop('class', axis=1)\n",
    "\n",
    "# Split data into training and testing data sets\n",
    "X_train, X_test, y_train, y_test = train_test_split(X, y, test_size=0.2, random_state=0)"
   ]
  },
  {
   "cell_type": "code",
   "execution_count": 4,
   "metadata": {},
   "outputs": [
    {
     "data": {
      "text/plain": [
       "2    444\n",
       "4    239\n",
       "Name: class, dtype: int64"
      ]
     },
     "execution_count": 4,
     "metadata": {},
     "output_type": "execute_result"
    }
   ],
   "source": [
    "y.value_counts()"
   ]
  },
  {
   "cell_type": "markdown",
   "metadata": {
    "collapsed": true,
    "deletable": false,
    "editable": false
   },
   "source": [
    "-----\n",
    "\n",
    "## Problem 1: Visualizing Anomalies\n",
    "\n",
    "For this problem, you will generate a comparative histogram to identify how data can be differentiated visually. Specifically, you will use the `data` list, created from the _Breast Cancer_ data set, where the first list element contains data with `class==2` and the second element contains data with `class==4`. You must complete the following tasks to make this plot:\n",
    "\n",
    "- Create a figure and axes object, name the axes object `axs`.\n",
    "- Call the `hist` method on your axes object to make a histogram.\n",
    "  - Plot the `data` list.\n",
    "  - Use ten bins.\n",
    "  - Use a `bar` type histogram.\n",
    "  - Label the two histograms.\n",
    "  - Capture the output of the `hist` plot function in three variables.\n",
    "    - n: bin counts\n",
    "    - b: bin edges\n",
    "    - p: histogram plot components\n",
    "- Title the plot.\n",
    "- Define X and Y axis labels.\n",
    "- Create a suitable legend.\n",
    "\n",
    "When finished, your histogram should look similar to the following plot:\n",
    "\n",
    "![Comparative Histogram](ch.png)\n",
    "\n",
    "While the sample plot calls the `despine` method in the Seaborn module, this is not required for this problem.\n",
    "\n",
    "Looking at this plot, think about how you might statistically separate these two classes.\n",
    "\n",
    "----"
   ]
  },
  {
   "cell_type": "code",
   "execution_count": 5,
   "metadata": {
    "deletable": false,
    "nbgrader": {
     "checksum": "62ca0d6ef562afb4d455406f23b04604",
     "grade": false,
     "grade_id": "p1_answer",
     "locked": false,
     "schema_version": 1,
     "solution": true
    },
    "scrolled": false
   },
   "outputs": [
    {
     "data": {
      "image/png": "[encoded data removed]",
      "text/plain": [
       "<Figure size 720x360 with 1 Axes>"
      ]
     },
     "metadata": {},
     "output_type": "display_data"
    }
   ],
   "source": [
    "# We create two lists to compare from the cancer data\n",
    "data = []\n",
    "\n",
    "data.append(df.loc[df['class'] == 2, ['uniformity cell shape']].values)\n",
    "data.append(df.loc[df['class'] == 4, ['uniformity cell shape']].values)\n",
    "\n",
    "### YOUR CODE HERE\n",
    "\n",
    "fig , axs = plt.subplots(figsize=(10, 5), sharex=True)\n",
    "\n",
    "# Call the hist method on your axes object\n",
    "#n_class2, b_class2, p_class2 = axs.hist(data[0], bins=10, alpha=0.5, label='Class 2')\n",
    "#n_class2 = n_class2.tolist()\n",
    "\n",
    "n_class2, b_class2, p_class2 = axs.hist(data[0], bins=10, alpha=0.5, label='Class 2')\n",
    "\n",
    "n_class2 = n_class2.tolist()\n",
    "\n",
    "n_class4, b_class4, p_class4 = axs.hist(data[1], bins=10, alpha=0.5, label='Class 4')\n",
    "\n",
    "n_class4 = n_class4.tolist()  # Convert the array to a list\n",
    "\n",
    "\n",
    "# Title the plot\n",
    "axs.set_title('Comparative Histogram of Class 2 vs Class 4')\n",
    "\n",
    "# Define X and Y axis labels\n",
    "axs.set_xlabel('Uniformity Cell Shape')\n",
    "axs.set_ylabel('Count')\n",
    "\n",
    "\n",
    "plt.show()"
   ]
  },
  {
   "cell_type": "code",
   "execution_count": 6,
   "metadata": {},
   "outputs": [],
   "source": [
    "n_class2, b_class2, p_class2 = axs.hist(data[0], bins=10, alpha=0.5, label='Class 2')"
   ]
  },
  {
   "cell_type": "code",
   "execution_count": 7,
   "metadata": {},
   "outputs": [
    {
     "data": {
      "text/plain": [
       "array([344.,  51.,  30.,   0.,  12.,   2.,   0.,   2.,   2.,   1.])"
      ]
     },
     "execution_count": 7,
     "metadata": {},
     "output_type": "execute_result"
    }
   ],
   "source": [
    "n_class2"
   ]
  },
  {
   "cell_type": "code",
   "execution_count": 8,
   "metadata": {},
   "outputs": [
    {
     "data": {
      "text/plain": [
       "array([1. , 1.7, 2.4, 3.1, 3.8, 4.5, 5.2, 5.9, 6.6, 7.3, 8. ])"
      ]
     },
     "execution_count": 8,
     "metadata": {},
     "output_type": "execute_result"
    }
   ],
   "source": [
    "b_class2"
   ]
  },
  {
   "cell_type": "code",
   "execution_count": 9,
   "metadata": {},
   "outputs": [
    {
     "data": {
      "text/plain": [
       "<BarContainer object of 10 artists>"
      ]
     },
     "execution_count": 9,
     "metadata": {},
     "output_type": "execute_result"
    }
   ],
   "source": [
    "p_class2"
   ]
  },
  {
   "cell_type": "code",
   "execution_count": 10,
   "metadata": {},
   "outputs": [],
   "source": [
    "n_class4, b_class4, p_class4 = axs.hist(data[1], bins=10, alpha=0.5, label='Class 4')"
   ]
  },
  {
   "cell_type": "code",
   "execution_count": 11,
   "metadata": {},
   "outputs": [
    {
     "data": {
      "text/plain": [
       "array([ 2.,  7., 23., 31., 30., 27., 28., 26.,  7., 58.])"
      ]
     },
     "execution_count": 11,
     "metadata": {},
     "output_type": "execute_result"
    }
   ],
   "source": [
    "n_class4"
   ]
  },
  {
   "cell_type": "code",
   "execution_count": 12,
   "metadata": {},
   "outputs": [
    {
     "data": {
      "text/plain": [
       "array([ 1. ,  1.9,  2.8,  3.7,  4.6,  5.5,  6.4,  7.3,  8.2,  9.1, 10. ])"
      ]
     },
     "execution_count": 12,
     "metadata": {},
     "output_type": "execute_result"
    }
   ],
   "source": [
    "b_class4"
   ]
  },
  {
   "cell_type": "code",
   "execution_count": 13,
   "metadata": {},
   "outputs": [
    {
     "data": {
      "text/plain": [
       "<BarContainer object of 10 artists>"
      ]
     },
     "execution_count": 13,
     "metadata": {},
     "output_type": "execute_result"
    }
   ],
   "source": [
    "p_class4"
   ]
  },
  {
   "cell_type": "code",
   "execution_count": 14,
   "metadata": {},
   "outputs": [],
   "source": [
    "#data[0]"
   ]
  },
  {
   "cell_type": "code",
   "execution_count": 15,
   "metadata": {},
   "outputs": [],
   "source": [
    "#data[1]"
   ]
  },
  {
   "cell_type": "code",
   "execution_count": 16,
   "metadata": {
    "deletable": false,
    "nbgrader": {
     "checksum": "0f9f09ce665cab1bdca0a0ba9edbb679",
     "grade": true,
     "grade_id": "p1_test",
     "locked": false,
     "points": 1,
     "schema_version": 1,
     "solution": false
    }
   },
   "outputs": [],
   "source": [
    "# Test histogram results were captured\n",
    "# assert_is_instance(n, list)\n",
    "\n",
    "# Test bin counts\n",
    "assert_equal(n_class2[0], 344., msg='')\n",
    "assert_equal(n_class2[-1], 1)\n",
    "assert_equal(n_class4[1], 7)\n",
    "assert_equal(n_class4[-1], 58)\n",
    "\n",
    "# Test plot decorations\n",
    "#assert_is_instance(axs, mpl.axes.Axes,  msg='You need to create and use an Axes object.')  \n",
    "\n",
    "assert_is_not(len(axs.title.get_text()), 0, \n",
    "              msg=\"Your plot doesn't have a title.\")\n",
    "\n",
    "assert_is_not(axs.xaxis.get_label_text(), '', \n",
    "              msg=\"Change the x-axis label to something more descriptive.\")\n",
    "\n",
    "assert_is_not(axs.yaxis.get_label_text(), '', \n",
    "              msg=\"Change the y-axis label to something more descriptive.\")\n",
    "\n",
    "#assert_is_instance(axs.legend_, mpl.legend.Legend, msg=\"Your plot doesn't have a Legend\")"
   ]
  },
  {
   "cell_type": "markdown",
   "metadata": {
    "deletable": false,
    "editable": false
   },
   "source": [
    "-----\n",
    "\n",
    "## Problem 2: DBSCAN for Anomaly Detection\n",
    "\n",
    "For this problem, you will complete the `DBSCAN_detect` function that uses DBSCAN to perform anomaly detection. Specifically, you must complete the following tasks:\n",
    "- Create an [DBSCAN](http://scikit-learn.org/stable/modules/generated/sklearn.cluster.dbscan.html) estimator by using the scikit learn library's implementation.\n",
    "  - Set the `eps` parameter to the `eps` argument passed into the function you are completing.\n",
    "  - Leave other hyperparameters set to their default values.\n",
    "- Fit DBSCAN to the training data. \n",
    "- Extract the cluster labels from the DBSCAN model.\n",
    "- Return these labels.\n",
    "\n",
    "-----"
   ]
  },
  {
   "cell_type": "code",
   "execution_count": 17,
   "metadata": {
    "deletable": false,
    "nbgrader": {
     "checksum": "bf8d2ef43cec29abb5ec7076bfa275bd",
     "grade": false,
     "grade_id": "p2_answer",
     "locked": false,
     "schema_version": 1,
     "solution": true
    }
   },
   "outputs": [],
   "source": [
    "from sklearn.cluster import DBSCAN\n",
    "\n",
    "def DBSCAN_detect(eps, X_train):\n",
    "    \"\"\"\n",
    "    Applies the DBSCAN clustering algorithm to data to determine noise (or outliers) and\n",
    "    cluster labels\n",
    "    \n",
    "    Parameters:\n",
    "    -----------\n",
    "    eps: The maximum distance between samples for them to be considered \n",
    "         in the same neighborhood\n",
    "    X_train: The data to cluster\n",
    "    \n",
    "    \n",
    "    Returns:\n",
    "    --------\n",
    "    labels: The cluster label for each datapoint\n",
    "    \"\"\"\n",
    "    \n",
    "    ### YOUR CODE HERE\n",
    "    db = DBSCAN(eps=eps)\n",
    "    \n",
    "    labels = db.fit_predict(X_train)\n",
    "    \n",
    "    return labels"
   ]
  },
  {
   "cell_type": "code",
   "execution_count": 18,
   "metadata": {},
   "outputs": [],
   "source": [
    "db = DBSCAN(eps=0.5)"
   ]
  },
  {
   "cell_type": "code",
   "execution_count": 19,
   "metadata": {},
   "outputs": [],
   "source": [
    "labels = db.fit_predict(X_train.iloc[:, 1:3])"
   ]
  },
  {
   "cell_type": "code",
   "execution_count": 20,
   "metadata": {},
   "outputs": [
    {
     "data": {
      "text/plain": [
       "array([-1,  0,  1,  2, -1,  0,  3,  4,  5,  6,  0,  7,  2,  8,  9,  2,  3,\n",
       "        0, 10, -1, -1,  0,  8, -1, 11, 12,  9, 13,  4,  1,  4,  1, -1,  3,\n",
       "       -1, -1,  6,  0,  0,  0, -1,  2,  3, -1, -1,  1, -1,  0,  0, -1,  6,\n",
       "        0,  0,  2,  2,  2,  0,  2,  0,  4,  4, -1,  0,  1,  0,  2,  2, 13,\n",
       "       -1,  4,  6, 14, 15, -1, 16,  2,  0,  0,  3, -1, -1, 17, 14, -1, 16,\n",
       "        3,  2,  9, 12,  0,  6,  4, 18, 11,  3,  3,  0, -1,  4, -1, 17,  9,\n",
       "        2,  0,  2,  0,  3, 16,  1,  4,  8,  0,  2, 13,  0,  4,  0,  3,  7,\n",
       "       -1,  1,  4, 16,  1, 16, -1,  7, 12, 19, -1,  0, -1,  2, 17,  0,  3,\n",
       "        8, -1,  1,  4,  4, -1,  4,  1, 20, -1, 14,  2, -1,  0,  3,  0,  1,\n",
       "        1,  2,  4,  8, 10, 21,  7, -1,  9,  3, -1,  0,  0,  2, -1,  2,  2,\n",
       "        3, -1, -1,  2, 18,  0,  3,  6,  3,  3,  4,  1,  1, 14,  0, 14, -1,\n",
       "       12, 15, 20, 21,  1, 16,  2, -1, 19, -1,  0,  1, -1,  1,  0,  2,  0,\n",
       "       18, -1,  1,  0,  1, -1,  0, -1,  6, -1, 22,  2,  0, -1, -1,  1,  3,\n",
       "       21,  0,  2,  0,  0,  3,  4,  0,  1, -1,  0,  6,  3,  4,  2,  0,  1,\n",
       "        2, 16,  6, -1, -1,  3,  0, -1, 10, -1,  7, 16,  2,  2,  0,  0, 16,\n",
       "        0, -1,  0,  1,  0, -1, -1,  9, 20, 13,  1,  0,  4,  0,  2,  0,  4,\n",
       "       11, 22, -1, 14,  0,  0, 23,  1, 22,  4,  0,  0,  8,  1, 22,  3,  0,\n",
       "       -1,  3,  0, 11,  4,  0,  2,  4, -1,  8, -1,  4,  4,  0, 19,  2,  0,\n",
       "       -1,  1,  0,  0,  4, 18,  5, -1, -1,  3, 15,  1,  7,  2, -1, -1, -1,\n",
       "        0,  0,  2,  4,  2,  4,  4,  2, 23, -1,  2,  2,  0,  4,  2, -1,  1,\n",
       "       11, 11,  1,  2,  0, 22, 16, -1, -1,  4, -1,  9,  8,  1,  3, 20, 22,\n",
       "        0, 21,  2,  5, -1,  0,  1, -1,  2,  0,  0,  0, 16,  1,  2,  2, -1,\n",
       "        1,  1, 18, 19, 16,  3, 19, -1, -1, 17,  2,  0, 14,  2,  4,  3, -1,\n",
       "       16,  0, 16, -1, 11, 14,  2,  1, -1,  1, 23,  9, 11, 21,  1, 22, -1,\n",
       "       22, 23,  4, 17,  4,  4, -1, 13,  0,  4,  2, -1, -1,  7,  3, -1,  0,\n",
       "       15,  3, -1, -1, -1, -1,  1, 16, 21,  4,  0, -1,  0, -1,  3, 14, -1,\n",
       "        3,  0,  4, -1,  9, -1,  9,  0, 12, 16,  0,  1, 23, 13,  8,  0,  2,\n",
       "        6,  3,  4,  4,  0, 22, 16,  2, -1, -1, -1,  1,  1,  1, -1,  4,  0,\n",
       "        1,  9, 11,  0, -1,  2, -1,  0,  1, 21,  1,  3,  1,  0, -1,  3, 10,\n",
       "        0, -1,  0,  1,  5, -1, 16, 12,  9, 10, -1,  4,  5, -1,  4,  1,  0,\n",
       "       17,  1,  2, -1, -1,  3,  1,  2, -1, 15,  4, -1, -1, 20,  4,  0, -1,\n",
       "       -1, 22,  0,  0,  3,  2,  4,  6,  0,  4, 16, -1,  3, 16, 10,  1,  0,\n",
       "        2, -1], dtype=int64)"
      ]
     },
     "execution_count": 20,
     "metadata": {},
     "output_type": "execute_result"
    }
   ],
   "source": [
    "labels"
   ]
  },
  {
   "cell_type": "code",
   "execution_count": 21,
   "metadata": {
    "deletable": false,
    "editable": false,
    "nbgrader": {
     "checksum": "5d13e8e8702718817baa288195f344f0",
     "grade": true,
     "grade_id": "p2_test",
     "locked": true,
     "points": 1,
     "schema_version": 1,
     "solution": false
    }
   },
   "outputs": [],
   "source": [
    "# Identify noise points and assign cluster labels\n",
    "labels = DBSCAN_detect(.5, X_train.iloc[:, 1:3])\n",
    "\n",
    "# Test Function\n",
    "assert_is_instance(labels, np.ndarray)\n",
    "assert_equal(labels[1], 0)\n",
    "assert_equal(len(labels), 546)"
   ]
  },
  {
   "cell_type": "markdown",
   "metadata": {
    "deletable": false,
    "editable": false
   },
   "source": [
    "-----\n",
    "\n",
    "## Problem 3: Computing Cluster Membership\n",
    "\n",
    "For this problem, you will complete the `compute_membership` function that will use the `Counter` data structure to determine noise and cluster membership given a set of cluster labels (via the `lbls` argument). Specifically, you must complete the following tasks:\n",
    "- Create a `Counter` from the cluster labels in the `lbls` argument.\n",
    "- Iterate through the Counter:\n",
    "  - For any item in the `Counter` with a negative label, append the count for that label to the noise list.\n",
    "  - For any item with a non-negative label, append the count for that label to the clusters list.\n",
    "- Return the noise and cluster lists, in that order.\n",
    "\n",
    "-----"
   ]
  },
  {
   "cell_type": "code",
   "execution_count": 22,
   "metadata": {
    "deletable": false,
    "nbgrader": {
     "checksum": "4bc0b0b58f218e01e9e35362eb15df3a",
     "grade": false,
     "grade_id": "p3_answer",
     "locked": false,
     "schema_version": 1,
     "solution": true
    }
   },
   "outputs": [],
   "source": [
    "from collections import Counter\n",
    "\n",
    "def compute_membership(lbls):\n",
    "    \"\"\"\n",
    "    Determines cluster or noise membership based on labels assigned by clustering algorithm.\n",
    "    \n",
    "    Parameters:\n",
    "    -----------\n",
    "    lbls: The cluster labels for each instance in the data set    \n",
    "    \n",
    "    Returns:\n",
    "    --------\n",
    "    noise and clusters: Two lists the hold the number of noise instances, \n",
    "                        and the number of instances in each cluster, respectively\n",
    "    \"\"\"\n",
    "    \n",
    "    ### YOUR CODE HERE\n",
    "\n",
    "    counter = Counter(lbls)\n",
    "    noise = []\n",
    "    clusters = []\n",
    "    \n",
    "    for label, count in counter.items():\n",
    "        if label < 0:\n",
    "            noise.append(count)\n",
    "        else:\n",
    "            clusters.append(count)\n",
    "    \n",
    "    return noise, clusters"
   ]
  },
  {
   "cell_type": "code",
   "execution_count": 23,
   "metadata": {
    "deletable": false,
    "editable": false,
    "nbgrader": {
     "checksum": "e743df5f2e9030967e5f4da9056f1945",
     "grade": true,
     "grade_id": "p3_test",
     "locked": true,
     "points": 1,
     "schema_version": 1,
     "solution": false
    }
   },
   "outputs": [],
   "source": [
    "# Extract the noise and cluster lists\n",
    "n, c = compute_membership(labels)\n",
    "\n",
    "# Test the noise and cluster lists\n",
    "assert_equal(n[0], 109)\n",
    "assert_equal(c[0], 97)\n",
    "assert_equal(c[-1], 5)\n",
    "assert_equal(len(c), 24)"
   ]
  },
  {
   "cell_type": "markdown",
   "metadata": {
    "deletable": false,
    "editable": false
   },
   "source": [
    "**&copy; 2017: Robert J. Brunner at the University of Illinois.**\n",
    "\n",
    "This notebook is released under the [Creative Commons license CC BY-NC-SA 4.0][ll]. Any reproduction, adaptation, distribution, dissemination or making available of this notebook for commercial use is not allowed unless authorized in writing by the copyright holder.\n",
    "\n",
    "[ll]: https://creativecommons.org/licenses/by-nc-sa/4.0/legalcode "
   ]
  }
 ],
 "metadata": {
  "celltoolbar": "Edit Metadata",
  "coursera": {
   "course_slug": "data-analytics-accountancy-2",
   "graded_item_id": "PdG3p",
   "launcher_item_id": "m8_assignment"
  },
  "kernelspec": {
   "display_name": "Python 3 (ipykernel)",
   "language": "python",
   "name": "python3"
  },
  "language_info": {
   "codemirror_mode": {
    "name": "ipython",
    "version": 3
   },
   "file_extension": ".py",
   "mimetype": "text/x-python",
   "name": "python",
   "nbconvert_exporter": "python",
   "pygments_lexer": "ipython3",
   "version": "3.9.12"
  }
 },
 "nbformat": 4,
 "nbformat_minor": 2
}
