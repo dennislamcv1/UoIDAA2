{
 "cells": [
  {
   "cell_type": "markdown",
   "metadata": {
    "deletable": false,
    "editable": false
   },
   "source": [
    "# Module 7 Assignment\n",
    "\n",
    "A few things you should keep in mind when working on assignments:\n",
    "\n",
    "1. Make sure you fill in any place that says `# YOUR CODE HERE`. Do not write your answer anywhere else other than where it says `# YOUR CODE HERE`. Anything you write elsewhere will be removed or overwritten by the autograder.\n",
    "2. Before you submit your assignment, make sure everything runs as expected. Go to the menubar, select Kernel, and restart the kernel and run all cells (Restart & Run all).\n",
    "3. Do not change the title (i.e. file name) of this notebook.\n",
    "4. Make sure that you save your work (in the menubar, select File → Save and CheckPoint).\n",
    "5. All work must be your own, if you do use any code from another source (such as a course notebook or a website) you need to properly cite the source.\n",
    "\n",
    "-----"
   ]
  },
  {
   "cell_type": "code",
   "execution_count": 1,
   "metadata": {
    "deletable": false,
    "editable": false
   },
   "outputs": [],
   "source": [
    "%matplotlib inline\n",
    "\n",
    "import numpy as np\n",
    "import pandas as pd\n",
    "\n",
    "import matplotlib.pyplot as plt\n",
    "import seaborn as sns\n",
    "\n",
    "from nose.tools import assert_is_instance, assert_equal, assert_almost_equal"
   ]
  },
  {
   "cell_type": "markdown",
   "metadata": {
    "deletable": false,
    "editable": false
   },
   "source": [
    "-----\n",
    "\n",
    "## Loading Car Specification Data\n",
    "\n",
    "In this assignment, we will work with the car specification-price data set to perform clustering analysis. Before we build a model, we first load the data into the assignment notebook, and randomly sample several rows. The second Code cell removes non-numeric features.\n",
    "\n",
    "-----"
   ]
  },
  {
   "cell_type": "code",
   "execution_count": 2,
   "metadata": {
    "deletable": false,
    "editable": false
   },
   "outputs": [
    {
     "data": {
      "text/html": [
       "<div>\n",
       "<style scoped>\n",
       "    .dataframe tbody tr th:only-of-type {\n",
       "        vertical-align: middle;\n",
       "    }\n",
       "\n",
       "    .dataframe tbody tr th {\n",
       "        vertical-align: top;\n",
       "    }\n",
       "\n",
       "    .dataframe thead th {\n",
       "        text-align: right;\n",
       "    }\n",
       "</style>\n",
       "<table border=\"1\" class=\"dataframe\">\n",
       "  <thead>\n",
       "    <tr style=\"text-align: right;\">\n",
       "      <th></th>\n",
       "      <th>symboling</th>\n",
       "      <th>normalized-losses</th>\n",
       "      <th>make</th>\n",
       "      <th>fuel-type</th>\n",
       "      <th>aspiration</th>\n",
       "      <th>num-of-doors</th>\n",
       "      <th>body-style</th>\n",
       "      <th>drive-wheels</th>\n",
       "      <th>'engine-location'</th>\n",
       "      <th>wheel-base</th>\n",
       "      <th>...</th>\n",
       "      <th>engine-size</th>\n",
       "      <th>fuel-system</th>\n",
       "      <th>bore</th>\n",
       "      <th>stroke</th>\n",
       "      <th>compression-ratio'</th>\n",
       "      <th>horsepower</th>\n",
       "      <th>peak-rpm</th>\n",
       "      <th>city-mpg</th>\n",
       "      <th>highway</th>\n",
       "      <th>price</th>\n",
       "    </tr>\n",
       "  </thead>\n",
       "  <tbody>\n",
       "    <tr>\n",
       "      <th>25</th>\n",
       "      <td>1</td>\n",
       "      <td>148</td>\n",
       "      <td>4</td>\n",
       "      <td>1</td>\n",
       "      <td>std</td>\n",
       "      <td>4.0</td>\n",
       "      <td>2</td>\n",
       "      <td>fwd</td>\n",
       "      <td>front</td>\n",
       "      <td>93.7</td>\n",
       "      <td>...</td>\n",
       "      <td>90</td>\n",
       "      <td>2bbl</td>\n",
       "      <td>2.97</td>\n",
       "      <td>3.23</td>\n",
       "      <td>9.4</td>\n",
       "      <td>68</td>\n",
       "      <td>5500</td>\n",
       "      <td>31</td>\n",
       "      <td>38</td>\n",
       "      <td>6692.0</td>\n",
       "    </tr>\n",
       "    <tr>\n",
       "      <th>201</th>\n",
       "      <td>-1</td>\n",
       "      <td>95</td>\n",
       "      <td>21</td>\n",
       "      <td>1</td>\n",
       "      <td>turbo</td>\n",
       "      <td>4.0</td>\n",
       "      <td>2</td>\n",
       "      <td>rwd</td>\n",
       "      <td>front</td>\n",
       "      <td>109.1</td>\n",
       "      <td>...</td>\n",
       "      <td>141</td>\n",
       "      <td>mpfi</td>\n",
       "      <td>3.78</td>\n",
       "      <td>3.15</td>\n",
       "      <td>8.7</td>\n",
       "      <td>160</td>\n",
       "      <td>5300</td>\n",
       "      <td>19</td>\n",
       "      <td>25</td>\n",
       "      <td>19045.0</td>\n",
       "    </tr>\n",
       "    <tr>\n",
       "      <th>169</th>\n",
       "      <td>2</td>\n",
       "      <td>134</td>\n",
       "      <td>19</td>\n",
       "      <td>1</td>\n",
       "      <td>std</td>\n",
       "      <td>2.0</td>\n",
       "      <td>3</td>\n",
       "      <td>rwd</td>\n",
       "      <td>front</td>\n",
       "      <td>98.4</td>\n",
       "      <td>...</td>\n",
       "      <td>146</td>\n",
       "      <td>mpfi</td>\n",
       "      <td>3.62</td>\n",
       "      <td>3.50</td>\n",
       "      <td>9.3</td>\n",
       "      <td>116</td>\n",
       "      <td>4800</td>\n",
       "      <td>24</td>\n",
       "      <td>30</td>\n",
       "      <td>9989.0</td>\n",
       "    </tr>\n",
       "    <tr>\n",
       "      <th>110</th>\n",
       "      <td>0</td>\n",
       "      <td>122</td>\n",
       "      <td>13</td>\n",
       "      <td>0</td>\n",
       "      <td>turbo</td>\n",
       "      <td>4.0</td>\n",
       "      <td>1</td>\n",
       "      <td>rwd</td>\n",
       "      <td>front</td>\n",
       "      <td>114.2</td>\n",
       "      <td>...</td>\n",
       "      <td>152</td>\n",
       "      <td>idi</td>\n",
       "      <td>3.70</td>\n",
       "      <td>3.52</td>\n",
       "      <td>21.0</td>\n",
       "      <td>95</td>\n",
       "      <td>4150</td>\n",
       "      <td>25</td>\n",
       "      <td>25</td>\n",
       "      <td>13860.0</td>\n",
       "    </tr>\n",
       "    <tr>\n",
       "      <th>155</th>\n",
       "      <td>0</td>\n",
       "      <td>91</td>\n",
       "      <td>19</td>\n",
       "      <td>1</td>\n",
       "      <td>std</td>\n",
       "      <td>4.0</td>\n",
       "      <td>1</td>\n",
       "      <td>4wd</td>\n",
       "      <td>front</td>\n",
       "      <td>95.7</td>\n",
       "      <td>...</td>\n",
       "      <td>92</td>\n",
       "      <td>2bbl</td>\n",
       "      <td>3.05</td>\n",
       "      <td>3.03</td>\n",
       "      <td>9.0</td>\n",
       "      <td>62</td>\n",
       "      <td>4800</td>\n",
       "      <td>27</td>\n",
       "      <td>32</td>\n",
       "      <td>8778.0</td>\n",
       "    </tr>\n",
       "  </tbody>\n",
       "</table>\n",
       "<p>5 rows × 26 columns</p>\n",
       "</div>"
      ],
      "text/plain": [
       "     symboling  normalized-losses  make  fuel-type aspiration  num-of-doors  \\\n",
       "25           1                148     4          1        std           4.0   \n",
       "201         -1                 95    21          1      turbo           4.0   \n",
       "169          2                134    19          1        std           2.0   \n",
       "110          0                122    13          0      turbo           4.0   \n",
       "155          0                 91    19          1        std           4.0   \n",
       "\n",
       "     body-style drive-wheels 'engine-location'  wheel-base  ...  engine-size  \\\n",
       "25            2          fwd             front        93.7  ...           90   \n",
       "201           2          rwd             front       109.1  ...          141   \n",
       "169           3          rwd             front        98.4  ...          146   \n",
       "110           1          rwd             front       114.2  ...          152   \n",
       "155           1          4wd             front        95.7  ...           92   \n",
       "\n",
       "     fuel-system  bore  stroke compression-ratio' horsepower  peak-rpm  \\\n",
       "25          2bbl  2.97    3.23                9.4         68      5500   \n",
       "201         mpfi  3.78    3.15                8.7        160      5300   \n",
       "169         mpfi  3.62    3.50                9.3        116      4800   \n",
       "110          idi  3.70    3.52               21.0         95      4150   \n",
       "155         2bbl  3.05    3.03                9.0         62      4800   \n",
       "\n",
       "    city-mpg highway    price  \n",
       "25        31      38   6692.0  \n",
       "201       19      25  19045.0  \n",
       "169       24      30   9989.0  \n",
       "110       25      25  13860.0  \n",
       "155       27      32   8778.0  \n",
       "\n",
       "[5 rows x 26 columns]"
      ]
     },
     "execution_count": 2,
     "metadata": {},
     "output_type": "execute_result"
    }
   ],
   "source": [
    "# Load data\n",
    "df = pd.read_csv('./imports-85.data')\n",
    "df.sample(5)"
   ]
  },
  {
   "cell_type": "code",
   "execution_count": 3,
   "metadata": {
    "deletable": false,
    "editable": false
   },
   "outputs": [
    {
     "data": {
      "text/html": [
       "<div>\n",
       "<style scoped>\n",
       "    .dataframe tbody tr th:only-of-type {\n",
       "        vertical-align: middle;\n",
       "    }\n",
       "\n",
       "    .dataframe tbody tr th {\n",
       "        vertical-align: top;\n",
       "    }\n",
       "\n",
       "    .dataframe thead th {\n",
       "        text-align: right;\n",
       "    }\n",
       "</style>\n",
       "<table border=\"1\" class=\"dataframe\">\n",
       "  <thead>\n",
       "    <tr style=\"text-align: right;\">\n",
       "      <th></th>\n",
       "      <th>symboling</th>\n",
       "      <th>normalized-losses</th>\n",
       "      <th>make</th>\n",
       "      <th>fuel-type</th>\n",
       "      <th>num-of-doors</th>\n",
       "      <th>body-style</th>\n",
       "      <th>wheel-base</th>\n",
       "      <th>length</th>\n",
       "      <th>width</th>\n",
       "      <th>height</th>\n",
       "      <th>curb-weight</th>\n",
       "      <th>engine-size</th>\n",
       "      <th>compression-ratio'</th>\n",
       "      <th>city-mpg</th>\n",
       "      <th>highway</th>\n",
       "      <th>price</th>\n",
       "    </tr>\n",
       "  </thead>\n",
       "  <tbody>\n",
       "    <tr>\n",
       "      <th>0</th>\n",
       "      <td>3</td>\n",
       "      <td>122</td>\n",
       "      <td>0</td>\n",
       "      <td>1</td>\n",
       "      <td>2.0</td>\n",
       "      <td>4</td>\n",
       "      <td>88.6</td>\n",
       "      <td>168.8</td>\n",
       "      <td>64.1</td>\n",
       "      <td>48.8</td>\n",
       "      <td>2548</td>\n",
       "      <td>130</td>\n",
       "      <td>9.0</td>\n",
       "      <td>21</td>\n",
       "      <td>27</td>\n",
       "      <td>13495.0</td>\n",
       "    </tr>\n",
       "    <tr>\n",
       "      <th>1</th>\n",
       "      <td>3</td>\n",
       "      <td>122</td>\n",
       "      <td>0</td>\n",
       "      <td>1</td>\n",
       "      <td>2.0</td>\n",
       "      <td>4</td>\n",
       "      <td>88.6</td>\n",
       "      <td>168.8</td>\n",
       "      <td>64.1</td>\n",
       "      <td>48.8</td>\n",
       "      <td>2548</td>\n",
       "      <td>130</td>\n",
       "      <td>9.0</td>\n",
       "      <td>21</td>\n",
       "      <td>27</td>\n",
       "      <td>16500.0</td>\n",
       "    </tr>\n",
       "    <tr>\n",
       "      <th>2</th>\n",
       "      <td>1</td>\n",
       "      <td>122</td>\n",
       "      <td>0</td>\n",
       "      <td>1</td>\n",
       "      <td>2.0</td>\n",
       "      <td>3</td>\n",
       "      <td>94.5</td>\n",
       "      <td>171.2</td>\n",
       "      <td>65.5</td>\n",
       "      <td>52.4</td>\n",
       "      <td>2823</td>\n",
       "      <td>152</td>\n",
       "      <td>9.0</td>\n",
       "      <td>19</td>\n",
       "      <td>26</td>\n",
       "      <td>16500.0</td>\n",
       "    </tr>\n",
       "    <tr>\n",
       "      <th>3</th>\n",
       "      <td>2</td>\n",
       "      <td>164</td>\n",
       "      <td>1</td>\n",
       "      <td>1</td>\n",
       "      <td>4.0</td>\n",
       "      <td>2</td>\n",
       "      <td>99.8</td>\n",
       "      <td>176.6</td>\n",
       "      <td>66.2</td>\n",
       "      <td>54.3</td>\n",
       "      <td>2337</td>\n",
       "      <td>109</td>\n",
       "      <td>10.0</td>\n",
       "      <td>24</td>\n",
       "      <td>30</td>\n",
       "      <td>13950.0</td>\n",
       "    </tr>\n",
       "    <tr>\n",
       "      <th>4</th>\n",
       "      <td>2</td>\n",
       "      <td>164</td>\n",
       "      <td>1</td>\n",
       "      <td>1</td>\n",
       "      <td>4.0</td>\n",
       "      <td>2</td>\n",
       "      <td>99.4</td>\n",
       "      <td>176.6</td>\n",
       "      <td>66.4</td>\n",
       "      <td>54.3</td>\n",
       "      <td>2824</td>\n",
       "      <td>136</td>\n",
       "      <td>8.0</td>\n",
       "      <td>18</td>\n",
       "      <td>22</td>\n",
       "      <td>17450.0</td>\n",
       "    </tr>\n",
       "  </tbody>\n",
       "</table>\n",
       "</div>"
      ],
      "text/plain": [
       "   symboling  normalized-losses  make  fuel-type  num-of-doors  body-style  \\\n",
       "0          3                122     0          1           2.0           4   \n",
       "1          3                122     0          1           2.0           4   \n",
       "2          1                122     0          1           2.0           3   \n",
       "3          2                164     1          1           4.0           2   \n",
       "4          2                164     1          1           4.0           2   \n",
       "\n",
       "   wheel-base  length  width  height  curb-weight  engine-size  \\\n",
       "0        88.6   168.8   64.1    48.8         2548          130   \n",
       "1        88.6   168.8   64.1    48.8         2548          130   \n",
       "2        94.5   171.2   65.5    52.4         2823          152   \n",
       "3        99.8   176.6   66.2    54.3         2337          109   \n",
       "4        99.4   176.6   66.4    54.3         2824          136   \n",
       "\n",
       "   compression-ratio'  city-mpg  highway    price  \n",
       "0                 9.0        21       27  13495.0  \n",
       "1                 9.0        21       27  16500.0  \n",
       "2                 9.0        19       26  16500.0  \n",
       "3                10.0        24       30  13950.0  \n",
       "4                 8.0        18       22  17450.0  "
      ]
     },
     "execution_count": 3,
     "metadata": {},
     "output_type": "execute_result"
    }
   ],
   "source": [
    "# Remove non-numeric features\n",
    "df_simple = df[df.columns[df.dtypes!=object]]\n",
    "df_simple.head()"
   ]
  },
  {
   "cell_type": "markdown",
   "metadata": {
    "deletable": false,
    "editable": false
   },
   "source": [
    "-----\n",
    "\n",
    "## Problem 1: K-Means Clustering\n",
    "\n",
    "For this problem, you will complete the `cluster` function, started below, to perform K-Means clustering on an input DataFrame. This function must create the [`KMeans`](http://scikit-learn.org/stable/modules/generated/sklearn.cluster.KMeans.html) estimator, and apply this estimator to the input data to predict cluster membership. Your function will return both the model, and the cluster labels for each instance in the input data set.\n",
    "\n",
    "-----"
   ]
  },
  {
   "cell_type": "code",
   "execution_count": 4,
   "metadata": {
    "deletable": false,
    "nbgrader": {
     "checksum": "26d56a33e28fa8b3f720b0bf84484e8a",
     "grade": false,
     "grade_id": "p1_answer",
     "locked": false,
     "schema_version": 1,
     "solution": true
    }
   },
   "outputs": [],
   "source": [
    "from sklearn.cluster import KMeans\n",
    "\n",
    "def cluster(data, rs=0, n_clusters=5):\n",
    "    \"\"\"\n",
    "    Applies KMeans to find n_clusters in the given data.\n",
    "    \n",
    "    Parameters\n",
    "    ----------\n",
    "    data: The dataset to apply clustering to\n",
    "    rs: A paremter for reproducibility\n",
    "    n_clusters: The number of clusters\n",
    "    \n",
    "    Returns\n",
    "    -------\n",
    "    model: the K-means model object\n",
    "    clusters: the cluster label of each datapoint\n",
    "    \"\"\"\n",
    "    \n",
    "    ### YOUR CODE HERE\n",
    "    \n",
    "    model = KMeans(n_clusters=n_clusters, random_state=rs)\n",
    "    \n",
    "    clusters = model.fit_predict(data)\n",
    "    \n",
    "    return model, clusters"
   ]
  },
  {
   "cell_type": "code",
   "execution_count": 5,
   "metadata": {},
   "outputs": [
    {
     "data": {
      "text/plain": [
       "(KMeans(n_clusters=6, random_state=1),\n",
       " array([1, 2, 2, 1, 2, 2, 2, 2, 5, 1, 2, 2, 5, 5, 5, 0, 4, 0, 3, 3, 3, 3,\n",
       "        3, 3, 3, 3, 3, 3, 3, 1, 3, 3, 3, 3, 3, 3, 3, 3, 3, 3, 1, 1, 1, 3,\n",
       "        1, 1, 1, 0, 0, 0, 3, 3, 3, 3, 3, 1, 1, 1, 2, 3, 3, 1, 1, 1, 1, 2,\n",
       "        2, 5, 5, 5, 0, 0, 0, 4, 4, 2, 3, 3, 3, 3, 1, 3, 1, 2, 2, 3, 3, 3,\n",
       "        3, 3, 3, 3, 3, 3, 3, 3, 3, 3, 3, 3, 3, 1, 2, 1, 2, 2, 2, 1, 1, 1,\n",
       "        1, 2, 2, 2, 2, 2, 2, 2, 3, 3, 3, 3, 3, 3, 1, 5, 0, 0, 0, 1, 3, 1,\n",
       "        1, 1, 2, 2, 2, 2, 3, 3, 3, 3, 3, 1, 3, 1, 3, 1, 3, 1, 3, 3, 3, 3,\n",
       "        3, 3, 3, 3, 3, 3, 3, 3, 3, 3, 3, 3, 3, 3, 1, 1, 1, 1, 2, 3, 1, 1,\n",
       "        1, 1, 2, 2, 2, 2, 3, 3, 3, 3, 3, 3, 1, 1, 1, 1, 1, 1, 1, 1, 2, 2,\n",
       "        2, 2, 2, 2, 5, 5, 5]))"
      ]
     },
     "execution_count": 5,
     "metadata": {},
     "output_type": "execute_result"
    }
   ],
   "source": [
    "cluster(df_simple, rs=1, n_clusters=6)"
   ]
  },
  {
   "cell_type": "code",
   "execution_count": 6,
   "metadata": {
    "deletable": false,
    "nbgrader": {
     "checksum": "27cf01ecb61ef2fe6dedb04f01b7674e",
     "grade": true,
     "grade_id": "p1_test",
     "locked": false,
     "points": 1,
     "schema_version": 1,
     "solution": false
    }
   },
   "outputs": [],
   "source": [
    "from sklearn.cluster import KMeans\n",
    "\n",
    "# Perform kMeans clustering\n",
    "k_means, clusters = cluster(df_simple, rs=1, n_clusters=6)\n",
    "\n",
    "# Test Function\n",
    "#assert_is_instance(k_means, k_means_.KMeans)\n",
    "assert_is_instance(clusters, np.ndarray)\n",
    "assert_equal(k_means.n_clusters, 6)\n",
    "assert_equal(clusters[0],1)"
   ]
  },
  {
   "cell_type": "markdown",
   "metadata": {
    "deletable": false,
    "editable": false
   },
   "source": [
    "-----\n",
    "\n",
    "## Problem 2: The Elbow Method\n",
    "\n",
    "For this problem, you will complete the `inertia_calc` function, started below, to compute the inertia values for different K-Means cluster models. This function will use the cluster model passed in via the `cluster_function` parameter to identify clusters in the `data` dataset by calling the appropriate `fit` function. The fitted model can be used to extract the model inertias, which should be aggregated in a NumPy array (along with all the different inertias for each value in the `n_clusters` array) that will be returned from the function.\n",
    "\n",
    "-----"
   ]
  },
  {
   "cell_type": "code",
   "execution_count": 7,
   "metadata": {
    "deletable": false,
    "nbgrader": {
     "checksum": "72a46ee0a2ca81d0ca7e7d8faf97945f",
     "grade": false,
     "grade_id": "p2_answer",
     "locked": false,
     "schema_version": 1,
     "solution": true
    }
   },
   "outputs": [],
   "source": [
    "def intertia_calc(cluster_function, data, n_clusters):\n",
    "    \"\"\"\n",
    "    Compute inertia values for different numbers of clusters\n",
    "    \n",
    "    Parameters\n",
    "    ----------\n",
    "    cluster_function: The function used to determine clusters\n",
    "    data: The dataset to which the clustering function is applied\n",
    "    n_clusters: An array containing the different numbers of clusters\n",
    "    \n",
    "    Returns\n",
    "    -------\n",
    "    intertias: A NumPy array of inertias for each k-means model.\n",
    "    \"\"\"\n",
    "    \n",
    "    ### YOUR CODE HERE\n",
    "    \n",
    "    inertias = np.empty(len(n_clusters))\n",
    "\n",
    "    for i, k in enumerate(n_clusters):\n",
    "        model, _ = cluster_function(data, n_clusters=k)\n",
    "        inertias[i] = model.inertia_\n",
    "\n",
    "    return inertias\n",
    "    \n",
    "    "
   ]
  },
  {
   "cell_type": "code",
   "execution_count": 8,
   "metadata": {},
   "outputs": [
    {
     "data": {
      "text/plain": [
       "array([2, 3, 4, 5, 6, 7, 8, 9])"
      ]
     },
     "execution_count": 8,
     "metadata": {},
     "output_type": "execute_result"
    }
   ],
   "source": [
    "n_clusters = np.arange(2,10)\n",
    "n_clusters"
   ]
  },
  {
   "cell_type": "code",
   "execution_count": 9,
   "metadata": {},
   "outputs": [
    {
     "data": {
      "text/plain": [
       "array([4.07047720e+09, 1.39970164e+09, 8.80515114e+08, 5.93934115e+08,\n",
       "       4.27971180e+08, 3.05095063e+08, 2.34684845e+08, 1.86196072e+08])"
      ]
     },
     "execution_count": 9,
     "metadata": {},
     "output_type": "execute_result"
    }
   ],
   "source": [
    "inertia_vec = intertia_calc(cluster, df_simple, n_clusters)\n",
    "inertia_vec"
   ]
  },
  {
   "cell_type": "code",
   "execution_count": 10,
   "metadata": {},
   "outputs": [
    {
     "data": {
      "text/plain": [
       "numpy.ndarray"
      ]
     },
     "execution_count": 10,
     "metadata": {},
     "output_type": "execute_result"
    }
   ],
   "source": [
    "type(inertia_vec)"
   ]
  },
  {
   "cell_type": "code",
   "execution_count": 11,
   "metadata": {},
   "outputs": [
    {
     "data": {
      "text/plain": [
       "8098575233.798612"
      ]
     },
     "execution_count": 11,
     "metadata": {},
     "output_type": "execute_result"
    }
   ],
   "source": [
    "sum(inertia_vec)"
   ]
  },
  {
   "cell_type": "code",
   "execution_count": 12,
   "metadata": {
    "deletable": false,
    "nbgrader": {
     "checksum": "528b7f074675f14fecbc3ae024eaddd6",
     "grade": true,
     "grade_id": "p2_test",
     "locked": true,
     "points": 1,
     "schema_version": 1,
     "solution": false
    }
   },
   "outputs": [],
   "source": [
    "# Define cluster size array\n",
    "n_clusters = np.arange(2,10)\n",
    "\n",
    "# Compute Intertia\n",
    "inertia_vec = intertia_calc(cluster, df_simple, n_clusters)\n",
    "\n",
    "# Test Inertia Calculation\n",
    "assert_is_instance(inertia_vec, np.ndarray)\n",
    "assert_almost_equal(sum(inertia_vec), 8098575233.7986,places=2)"
   ]
  },
  {
   "cell_type": "markdown",
   "metadata": {
    "deletable": false,
    "editable": false
   },
   "source": [
    "-----\n",
    "\n",
    "The following Code cell generates the _elbow plot_, which indicates (based on the location of the elbow, or break in slope) that the optimal number of clusters is three.\n",
    "\n",
    "-----"
   ]
  },
  {
   "cell_type": "code",
   "execution_count": 13,
   "metadata": {
    "deletable": false,
    "editable": false
   },
   "outputs": [
    {
     "data": {
      "image/png": "[encoded data removed]",
      "text/plain": [
       "<Figure size 432x288 with 1 Axes>"
      ]
     },
     "metadata": {
      "needs_background": "light"
     },
     "output_type": "display_data"
    }
   ],
   "source": [
    "# Make the Elbow plot\n",
    "fig, ax = plt.subplots()\n",
    "ax.plot(n_clusters, inertia_vec)\n",
    "ax.set(title='Elbow Plot', \n",
    "       xlabel='Number of Clusters', \n",
    "       ylabel='Total distance')\n",
    "\n",
    "sns.despine()"
   ]
  },
  {
   "cell_type": "markdown",
   "metadata": {
    "deletable": false,
    "editable": false
   },
   "source": [
    "-----\n",
    "\n",
    "## Problem 3: Gaussian Mixture Models\n",
    "\n",
    "For this problem, you will complete the `GMM_fit` function, started below, to compute the Gaussian Mixture Model for the supplied data. This function must create the [`GaussianMixture`](http://scikit-learn.org/stable/modules/generated/sklearn.mixture.GaussianMixture.html) estimator, and apply this estimator to the input data to predict cluster membership. Your function will return both the model, and the cluster labels for each instance in the input data set.\n",
    "\n",
    "-----"
   ]
  },
  {
   "cell_type": "code",
   "execution_count": 14,
   "metadata": {
    "deletable": false,
    "nbgrader": {
     "checksum": "2e5f0f2b915d5193c8242ff3fdc69243",
     "grade": false,
     "grade_id": "p3_answer",
     "locked": false,
     "schema_version": 1,
     "solution": true
    }
   },
   "outputs": [],
   "source": [
    "from sklearn.mixture import GaussianMixture\n",
    "\n",
    "def GMM_fit(data, rs=0, n_c=5):\n",
    "    '''\n",
    "    Apply a Gaussian Mixture Model to input data\n",
    "    \n",
    "    Parameters\n",
    "    ----------\n",
    "    data: The dataset to which the mxture model is applied\n",
    "    rs: A parameter for reproducibility\n",
    "    n_c: The number of clusters\n",
    "    \n",
    "    Returns\n",
    "    -------\n",
    "    model: the GMM model\n",
    "    clusters: the cluster label of each datapoint\n",
    "    '''\n",
    "    \n",
    "    ### YOUR CODE HERE\n",
    "    \n",
    "    model = GaussianMixture(n_components=3, covariance_type='full')\n",
    "    \n",
    "    # We fit our data to assign classes\n",
    "    model.fit(data)\n",
    "    \n",
    "    return model, clusters"
   ]
  },
  {
   "cell_type": "code",
   "execution_count": 15,
   "metadata": {
    "deletable": false,
    "editable": false,
    "nbgrader": {
     "checksum": "0ffeb79507fc6ce54042afdb9e1bf67c",
     "grade": true,
     "grade_id": "p3_test",
     "locked": true,
     "points": 1,
     "schema_version": 1,
     "solution": false
    }
   },
   "outputs": [],
   "source": [
    "# Perform Gaussian Mixture Modeling\n",
    "GMM, clusters = GMM_fit(df_simple, rs=1, n_c=3)\n",
    "\n",
    "# Test Function\n",
    "assert_is_instance(GMM, GaussianMixture)\n",
    "assert_is_instance(clusters, np.ndarray)\n",
    "assert_equal(GMM.n_components, 3)\n",
    "assert_equal(clusters[0],1)"
   ]
  },
  {
   "cell_type": "markdown",
   "metadata": {
    "deletable": false,
    "editable": false
   },
   "source": [
    "**&copy; 2017: Robert J. Brunner at the University of Illinois.**\n",
    "\n",
    "This notebook is released under the [Creative Commons license CC BY-NC-SA 4.0][ll]. Any reproduction, adaptation, distribution, dissemination or making available of this notebook for commercial use is not allowed unless authorized in writing by the copyright holder.\n",
    "\n",
    "[ll]: https://creativecommons.org/licenses/by-nc-sa/4.0/legalcode "
   ]
  }
 ],
 "metadata": {
  "celltoolbar": "Edit Metadata",
  "coursera": {
   "course_slug": "data-analytics-accountancy-2",
   "graded_item_id": "bJpHf",
   "launcher_item_id": "m7_assignment"
  },
  "kernelspec": {
   "display_name": "Python 3 (ipykernel)",
   "language": "python",
   "name": "python3"
  },
  "language_info": {
   "codemirror_mode": {
    "name": "ipython",
    "version": 3
   },
   "file_extension": ".py",
   "mimetype": "text/x-python",
   "name": "python",
   "nbconvert_exporter": "python",
   "pygments_lexer": "ipython3",
   "version": "3.9.12"
  }
 },
 "nbformat": 4,
 "nbformat_minor": 2
}
